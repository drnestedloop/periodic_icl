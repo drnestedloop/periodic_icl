{
  "nbformat": 4,
  "nbformat_minor": 0,
  "metadata": {
    "colab": {
      "provenance": [],
      "machine_shape": "hm",
      "gpuType": "A100"
    },
    "kernelspec": {
      "name": "python3",
      "display_name": "Python 3"
    },
    "language_info": {
      "name": "python"
    },
    "accelerator": "GPU",
    "widgets": {
      "application/vnd.jupyter.widget-state+json": {
        "badab5598cc6415fad3d2ff6385c7e33": {
          "model_module": "@jupyter-widgets/controls",
          "model_name": "HBoxModel",
          "model_module_version": "1.5.0",
          "state": {
            "_dom_classes": [],
            "_model_module": "@jupyter-widgets/controls",
            "_model_module_version": "1.5.0",
            "_model_name": "HBoxModel",
            "_view_count": null,
            "_view_module": "@jupyter-widgets/controls",
            "_view_module_version": "1.5.0",
            "_view_name": "HBoxView",
            "box_style": "",
            "children": [
              "IPY_MODEL_84648b03137947608aa6930b4c76dd14",
              "IPY_MODEL_2a5a0bdcca9748efb214ad7171b7ab28",
              "IPY_MODEL_92dde39e3143433f9b9435ee50bb3b45"
            ],
            "layout": "IPY_MODEL_467fde75016d43edaba73a6b8e344450"
          }
        },
        "84648b03137947608aa6930b4c76dd14": {
          "model_module": "@jupyter-widgets/controls",
          "model_name": "HTMLModel",
          "model_module_version": "1.5.0",
          "state": {
            "_dom_classes": [],
            "_model_module": "@jupyter-widgets/controls",
            "_model_module_version": "1.5.0",
            "_model_name": "HTMLModel",
            "_view_count": null,
            "_view_module": "@jupyter-widgets/controls",
            "_view_module_version": "1.5.0",
            "_view_name": "HTMLView",
            "description": "",
            "description_tooltip": null,
            "layout": "IPY_MODEL_6db40b637e444352a2e28a4dd920cae8",
            "placeholder": "​",
            "style": "IPY_MODEL_55d2ee6eecf348a9b92dd30f12dcc64c",
            "value": "Epochs: 100%"
          }
        },
        "2a5a0bdcca9748efb214ad7171b7ab28": {
          "model_module": "@jupyter-widgets/controls",
          "model_name": "FloatProgressModel",
          "model_module_version": "1.5.0",
          "state": {
            "_dom_classes": [],
            "_model_module": "@jupyter-widgets/controls",
            "_model_module_version": "1.5.0",
            "_model_name": "FloatProgressModel",
            "_view_count": null,
            "_view_module": "@jupyter-widgets/controls",
            "_view_module_version": "1.5.0",
            "_view_name": "ProgressView",
            "bar_style": "success",
            "description": "",
            "description_tooltip": null,
            "layout": "IPY_MODEL_846e39eb24d5402c9a2eff7e4548b24f",
            "max": 55000,
            "min": 0,
            "orientation": "horizontal",
            "style": "IPY_MODEL_a1ee59ea43db432db4f778810e6c368f",
            "value": 55000
          }
        },
        "92dde39e3143433f9b9435ee50bb3b45": {
          "model_module": "@jupyter-widgets/controls",
          "model_name": "HTMLModel",
          "model_module_version": "1.5.0",
          "state": {
            "_dom_classes": [],
            "_model_module": "@jupyter-widgets/controls",
            "_model_module_version": "1.5.0",
            "_model_name": "HTMLModel",
            "_view_count": null,
            "_view_module": "@jupyter-widgets/controls",
            "_view_module_version": "1.5.0",
            "_view_name": "HTMLView",
            "description": "",
            "description_tooltip": null,
            "layout": "IPY_MODEL_391641b6d24f446ba69b30830ee345b0",
            "placeholder": "​",
            "style": "IPY_MODEL_8f58734c6b7540d48326d96cc61d4644",
            "value": " 55000/55000 [26:56&lt;00:00, 34.15it/s]"
          }
        },
        "467fde75016d43edaba73a6b8e344450": {
          "model_module": "@jupyter-widgets/base",
          "model_name": "LayoutModel",
          "model_module_version": "1.2.0",
          "state": {
            "_model_module": "@jupyter-widgets/base",
            "_model_module_version": "1.2.0",
            "_model_name": "LayoutModel",
            "_view_count": null,
            "_view_module": "@jupyter-widgets/base",
            "_view_module_version": "1.2.0",
            "_view_name": "LayoutView",
            "align_content": null,
            "align_items": null,
            "align_self": null,
            "border": null,
            "bottom": null,
            "display": null,
            "flex": null,
            "flex_flow": null,
            "grid_area": null,
            "grid_auto_columns": null,
            "grid_auto_flow": null,
            "grid_auto_rows": null,
            "grid_column": null,
            "grid_gap": null,
            "grid_row": null,
            "grid_template_areas": null,
            "grid_template_columns": null,
            "grid_template_rows": null,
            "height": null,
            "justify_content": null,
            "justify_items": null,
            "left": null,
            "margin": null,
            "max_height": null,
            "max_width": null,
            "min_height": null,
            "min_width": null,
            "object_fit": null,
            "object_position": null,
            "order": null,
            "overflow": null,
            "overflow_x": null,
            "overflow_y": null,
            "padding": null,
            "right": null,
            "top": null,
            "visibility": null,
            "width": null
          }
        },
        "6db40b637e444352a2e28a4dd920cae8": {
          "model_module": "@jupyter-widgets/base",
          "model_name": "LayoutModel",
          "model_module_version": "1.2.0",
          "state": {
            "_model_module": "@jupyter-widgets/base",
            "_model_module_version": "1.2.0",
            "_model_name": "LayoutModel",
            "_view_count": null,
            "_view_module": "@jupyter-widgets/base",
            "_view_module_version": "1.2.0",
            "_view_name": "LayoutView",
            "align_content": null,
            "align_items": null,
            "align_self": null,
            "border": null,
            "bottom": null,
            "display": null,
            "flex": null,
            "flex_flow": null,
            "grid_area": null,
            "grid_auto_columns": null,
            "grid_auto_flow": null,
            "grid_auto_rows": null,
            "grid_column": null,
            "grid_gap": null,
            "grid_row": null,
            "grid_template_areas": null,
            "grid_template_columns": null,
            "grid_template_rows": null,
            "height": null,
            "justify_content": null,
            "justify_items": null,
            "left": null,
            "margin": null,
            "max_height": null,
            "max_width": null,
            "min_height": null,
            "min_width": null,
            "object_fit": null,
            "object_position": null,
            "order": null,
            "overflow": null,
            "overflow_x": null,
            "overflow_y": null,
            "padding": null,
            "right": null,
            "top": null,
            "visibility": null,
            "width": null
          }
        },
        "55d2ee6eecf348a9b92dd30f12dcc64c": {
          "model_module": "@jupyter-widgets/controls",
          "model_name": "DescriptionStyleModel",
          "model_module_version": "1.5.0",
          "state": {
            "_model_module": "@jupyter-widgets/controls",
            "_model_module_version": "1.5.0",
            "_model_name": "DescriptionStyleModel",
            "_view_count": null,
            "_view_module": "@jupyter-widgets/base",
            "_view_module_version": "1.2.0",
            "_view_name": "StyleView",
            "description_width": ""
          }
        },
        "846e39eb24d5402c9a2eff7e4548b24f": {
          "model_module": "@jupyter-widgets/base",
          "model_name": "LayoutModel",
          "model_module_version": "1.2.0",
          "state": {
            "_model_module": "@jupyter-widgets/base",
            "_model_module_version": "1.2.0",
            "_model_name": "LayoutModel",
            "_view_count": null,
            "_view_module": "@jupyter-widgets/base",
            "_view_module_version": "1.2.0",
            "_view_name": "LayoutView",
            "align_content": null,
            "align_items": null,
            "align_self": null,
            "border": null,
            "bottom": null,
            "display": null,
            "flex": null,
            "flex_flow": null,
            "grid_area": null,
            "grid_auto_columns": null,
            "grid_auto_flow": null,
            "grid_auto_rows": null,
            "grid_column": null,
            "grid_gap": null,
            "grid_row": null,
            "grid_template_areas": null,
            "grid_template_columns": null,
            "grid_template_rows": null,
            "height": null,
            "justify_content": null,
            "justify_items": null,
            "left": null,
            "margin": null,
            "max_height": null,
            "max_width": null,
            "min_height": null,
            "min_width": null,
            "object_fit": null,
            "object_position": null,
            "order": null,
            "overflow": null,
            "overflow_x": null,
            "overflow_y": null,
            "padding": null,
            "right": null,
            "top": null,
            "visibility": null,
            "width": null
          }
        },
        "a1ee59ea43db432db4f778810e6c368f": {
          "model_module": "@jupyter-widgets/controls",
          "model_name": "ProgressStyleModel",
          "model_module_version": "1.5.0",
          "state": {
            "_model_module": "@jupyter-widgets/controls",
            "_model_module_version": "1.5.0",
            "_model_name": "ProgressStyleModel",
            "_view_count": null,
            "_view_module": "@jupyter-widgets/base",
            "_view_module_version": "1.2.0",
            "_view_name": "StyleView",
            "bar_color": null,
            "description_width": ""
          }
        },
        "391641b6d24f446ba69b30830ee345b0": {
          "model_module": "@jupyter-widgets/base",
          "model_name": "LayoutModel",
          "model_module_version": "1.2.0",
          "state": {
            "_model_module": "@jupyter-widgets/base",
            "_model_module_version": "1.2.0",
            "_model_name": "LayoutModel",
            "_view_count": null,
            "_view_module": "@jupyter-widgets/base",
            "_view_module_version": "1.2.0",
            "_view_name": "LayoutView",
            "align_content": null,
            "align_items": null,
            "align_self": null,
            "border": null,
            "bottom": null,
            "display": null,
            "flex": null,
            "flex_flow": null,
            "grid_area": null,
            "grid_auto_columns": null,
            "grid_auto_flow": null,
            "grid_auto_rows": null,
            "grid_column": null,
            "grid_gap": null,
            "grid_row": null,
            "grid_template_areas": null,
            "grid_template_columns": null,
            "grid_template_rows": null,
            "height": null,
            "justify_content": null,
            "justify_items": null,
            "left": null,
            "margin": null,
            "max_height": null,
            "max_width": null,
            "min_height": null,
            "min_width": null,
            "object_fit": null,
            "object_position": null,
            "order": null,
            "overflow": null,
            "overflow_x": null,
            "overflow_y": null,
            "padding": null,
            "right": null,
            "top": null,
            "visibility": null,
            "width": null
          }
        },
        "8f58734c6b7540d48326d96cc61d4644": {
          "model_module": "@jupyter-widgets/controls",
          "model_name": "DescriptionStyleModel",
          "model_module_version": "1.5.0",
          "state": {
            "_model_module": "@jupyter-widgets/controls",
            "_model_module_version": "1.5.0",
            "_model_name": "DescriptionStyleModel",
            "_view_count": null,
            "_view_module": "@jupyter-widgets/base",
            "_view_module_version": "1.2.0",
            "_view_name": "StyleView",
            "description_width": ""
          }
        },
        "5908e1f7061e4254a80d48ba44b2351e": {
          "model_module": "@jupyter-widgets/controls",
          "model_name": "HBoxModel",
          "model_module_version": "1.5.0",
          "state": {
            "_dom_classes": [],
            "_model_module": "@jupyter-widgets/controls",
            "_model_module_version": "1.5.0",
            "_model_name": "HBoxModel",
            "_view_count": null,
            "_view_module": "@jupyter-widgets/controls",
            "_view_module_version": "1.5.0",
            "_view_name": "HBoxView",
            "box_style": "",
            "children": [
              "IPY_MODEL_1148bd031eb446bf827607904bd26319",
              "IPY_MODEL_74b713b2ccdc468cbdd7f520ad7208c4",
              "IPY_MODEL_6b7cce1a31294467a0e893b43193d22a"
            ],
            "layout": "IPY_MODEL_9867d8e8e90a4b9cb2b4c42cea3b628e"
          }
        },
        "1148bd031eb446bf827607904bd26319": {
          "model_module": "@jupyter-widgets/controls",
          "model_name": "HTMLModel",
          "model_module_version": "1.5.0",
          "state": {
            "_dom_classes": [],
            "_model_module": "@jupyter-widgets/controls",
            "_model_module_version": "1.5.0",
            "_model_name": "HTMLModel",
            "_view_count": null,
            "_view_module": "@jupyter-widgets/controls",
            "_view_module_version": "1.5.0",
            "_view_name": "HTMLView",
            "description": "",
            "description_tooltip": null,
            "layout": "IPY_MODEL_bafd9aec11404a62b4f1df0219938635",
            "placeholder": "​",
            "style": "IPY_MODEL_7f7599be3bbe430292927c49321e4e30",
            "value": "Epochs: 100%"
          }
        },
        "74b713b2ccdc468cbdd7f520ad7208c4": {
          "model_module": "@jupyter-widgets/controls",
          "model_name": "FloatProgressModel",
          "model_module_version": "1.5.0",
          "state": {
            "_dom_classes": [],
            "_model_module": "@jupyter-widgets/controls",
            "_model_module_version": "1.5.0",
            "_model_name": "FloatProgressModel",
            "_view_count": null,
            "_view_module": "@jupyter-widgets/controls",
            "_view_module_version": "1.5.0",
            "_view_name": "ProgressView",
            "bar_style": "success",
            "description": "",
            "description_tooltip": null,
            "layout": "IPY_MODEL_c138e1bb09c2461ea200df21ad76e29e",
            "max": 100000,
            "min": 0,
            "orientation": "horizontal",
            "style": "IPY_MODEL_67879e878288417ba39c6ec648856754",
            "value": 100000
          }
        },
        "6b7cce1a31294467a0e893b43193d22a": {
          "model_module": "@jupyter-widgets/controls",
          "model_name": "HTMLModel",
          "model_module_version": "1.5.0",
          "state": {
            "_dom_classes": [],
            "_model_module": "@jupyter-widgets/controls",
            "_model_module_version": "1.5.0",
            "_model_name": "HTMLModel",
            "_view_count": null,
            "_view_module": "@jupyter-widgets/controls",
            "_view_module_version": "1.5.0",
            "_view_name": "HTMLView",
            "description": "",
            "description_tooltip": null,
            "layout": "IPY_MODEL_c219b116bce04907a0874d66b8e57d83",
            "placeholder": "​",
            "style": "IPY_MODEL_63f65550c5374bc6a9878339e07a0658",
            "value": " 100000/100000 [43:27&lt;00:00, 23.50it/s]"
          }
        },
        "9867d8e8e90a4b9cb2b4c42cea3b628e": {
          "model_module": "@jupyter-widgets/base",
          "model_name": "LayoutModel",
          "model_module_version": "1.2.0",
          "state": {
            "_model_module": "@jupyter-widgets/base",
            "_model_module_version": "1.2.0",
            "_model_name": "LayoutModel",
            "_view_count": null,
            "_view_module": "@jupyter-widgets/base",
            "_view_module_version": "1.2.0",
            "_view_name": "LayoutView",
            "align_content": null,
            "align_items": null,
            "align_self": null,
            "border": null,
            "bottom": null,
            "display": null,
            "flex": null,
            "flex_flow": null,
            "grid_area": null,
            "grid_auto_columns": null,
            "grid_auto_flow": null,
            "grid_auto_rows": null,
            "grid_column": null,
            "grid_gap": null,
            "grid_row": null,
            "grid_template_areas": null,
            "grid_template_columns": null,
            "grid_template_rows": null,
            "height": null,
            "justify_content": null,
            "justify_items": null,
            "left": null,
            "margin": null,
            "max_height": null,
            "max_width": null,
            "min_height": null,
            "min_width": null,
            "object_fit": null,
            "object_position": null,
            "order": null,
            "overflow": null,
            "overflow_x": null,
            "overflow_y": null,
            "padding": null,
            "right": null,
            "top": null,
            "visibility": null,
            "width": null
          }
        },
        "bafd9aec11404a62b4f1df0219938635": {
          "model_module": "@jupyter-widgets/base",
          "model_name": "LayoutModel",
          "model_module_version": "1.2.0",
          "state": {
            "_model_module": "@jupyter-widgets/base",
            "_model_module_version": "1.2.0",
            "_model_name": "LayoutModel",
            "_view_count": null,
            "_view_module": "@jupyter-widgets/base",
            "_view_module_version": "1.2.0",
            "_view_name": "LayoutView",
            "align_content": null,
            "align_items": null,
            "align_self": null,
            "border": null,
            "bottom": null,
            "display": null,
            "flex": null,
            "flex_flow": null,
            "grid_area": null,
            "grid_auto_columns": null,
            "grid_auto_flow": null,
            "grid_auto_rows": null,
            "grid_column": null,
            "grid_gap": null,
            "grid_row": null,
            "grid_template_areas": null,
            "grid_template_columns": null,
            "grid_template_rows": null,
            "height": null,
            "justify_content": null,
            "justify_items": null,
            "left": null,
            "margin": null,
            "max_height": null,
            "max_width": null,
            "min_height": null,
            "min_width": null,
            "object_fit": null,
            "object_position": null,
            "order": null,
            "overflow": null,
            "overflow_x": null,
            "overflow_y": null,
            "padding": null,
            "right": null,
            "top": null,
            "visibility": null,
            "width": null
          }
        },
        "7f7599be3bbe430292927c49321e4e30": {
          "model_module": "@jupyter-widgets/controls",
          "model_name": "DescriptionStyleModel",
          "model_module_version": "1.5.0",
          "state": {
            "_model_module": "@jupyter-widgets/controls",
            "_model_module_version": "1.5.0",
            "_model_name": "DescriptionStyleModel",
            "_view_count": null,
            "_view_module": "@jupyter-widgets/base",
            "_view_module_version": "1.2.0",
            "_view_name": "StyleView",
            "description_width": ""
          }
        },
        "c138e1bb09c2461ea200df21ad76e29e": {
          "model_module": "@jupyter-widgets/base",
          "model_name": "LayoutModel",
          "model_module_version": "1.2.0",
          "state": {
            "_model_module": "@jupyter-widgets/base",
            "_model_module_version": "1.2.0",
            "_model_name": "LayoutModel",
            "_view_count": null,
            "_view_module": "@jupyter-widgets/base",
            "_view_module_version": "1.2.0",
            "_view_name": "LayoutView",
            "align_content": null,
            "align_items": null,
            "align_self": null,
            "border": null,
            "bottom": null,
            "display": null,
            "flex": null,
            "flex_flow": null,
            "grid_area": null,
            "grid_auto_columns": null,
            "grid_auto_flow": null,
            "grid_auto_rows": null,
            "grid_column": null,
            "grid_gap": null,
            "grid_row": null,
            "grid_template_areas": null,
            "grid_template_columns": null,
            "grid_template_rows": null,
            "height": null,
            "justify_content": null,
            "justify_items": null,
            "left": null,
            "margin": null,
            "max_height": null,
            "max_width": null,
            "min_height": null,
            "min_width": null,
            "object_fit": null,
            "object_position": null,
            "order": null,
            "overflow": null,
            "overflow_x": null,
            "overflow_y": null,
            "padding": null,
            "right": null,
            "top": null,
            "visibility": null,
            "width": null
          }
        },
        "67879e878288417ba39c6ec648856754": {
          "model_module": "@jupyter-widgets/controls",
          "model_name": "ProgressStyleModel",
          "model_module_version": "1.5.0",
          "state": {
            "_model_module": "@jupyter-widgets/controls",
            "_model_module_version": "1.5.0",
            "_model_name": "ProgressStyleModel",
            "_view_count": null,
            "_view_module": "@jupyter-widgets/base",
            "_view_module_version": "1.2.0",
            "_view_name": "StyleView",
            "bar_color": null,
            "description_width": ""
          }
        },
        "c219b116bce04907a0874d66b8e57d83": {
          "model_module": "@jupyter-widgets/base",
          "model_name": "LayoutModel",
          "model_module_version": "1.2.0",
          "state": {
            "_model_module": "@jupyter-widgets/base",
            "_model_module_version": "1.2.0",
            "_model_name": "LayoutModel",
            "_view_count": null,
            "_view_module": "@jupyter-widgets/base",
            "_view_module_version": "1.2.0",
            "_view_name": "LayoutView",
            "align_content": null,
            "align_items": null,
            "align_self": null,
            "border": null,
            "bottom": null,
            "display": null,
            "flex": null,
            "flex_flow": null,
            "grid_area": null,
            "grid_auto_columns": null,
            "grid_auto_flow": null,
            "grid_auto_rows": null,
            "grid_column": null,
            "grid_gap": null,
            "grid_row": null,
            "grid_template_areas": null,
            "grid_template_columns": null,
            "grid_template_rows": null,
            "height": null,
            "justify_content": null,
            "justify_items": null,
            "left": null,
            "margin": null,
            "max_height": null,
            "max_width": null,
            "min_height": null,
            "min_width": null,
            "object_fit": null,
            "object_position": null,
            "order": null,
            "overflow": null,
            "overflow_x": null,
            "overflow_y": null,
            "padding": null,
            "right": null,
            "top": null,
            "visibility": null,
            "width": null
          }
        },
        "63f65550c5374bc6a9878339e07a0658": {
          "model_module": "@jupyter-widgets/controls",
          "model_name": "DescriptionStyleModel",
          "model_module_version": "1.5.0",
          "state": {
            "_model_module": "@jupyter-widgets/controls",
            "_model_module_version": "1.5.0",
            "_model_name": "DescriptionStyleModel",
            "_view_count": null,
            "_view_module": "@jupyter-widgets/base",
            "_view_module_version": "1.2.0",
            "_view_name": "StyleView",
            "description_width": ""
          }
        },
        "c04868cdb52b41acbadd14d597efdabf": {
          "model_module": "@jupyter-widgets/controls",
          "model_name": "HBoxModel",
          "model_module_version": "1.5.0",
          "state": {
            "_dom_classes": [],
            "_model_module": "@jupyter-widgets/controls",
            "_model_module_version": "1.5.0",
            "_model_name": "HBoxModel",
            "_view_count": null,
            "_view_module": "@jupyter-widgets/controls",
            "_view_module_version": "1.5.0",
            "_view_name": "HBoxView",
            "box_style": "",
            "children": [
              "IPY_MODEL_7bf6cb5a11e341f1a670917260a19487",
              "IPY_MODEL_f0f346f28cc3485ca957cfd3080482d0",
              "IPY_MODEL_7bb875779b7d421d80b1b25b276d0b26"
            ],
            "layout": "IPY_MODEL_e1d6c55abe744a96a5abcdb6ae7aee19"
          }
        },
        "7bf6cb5a11e341f1a670917260a19487": {
          "model_module": "@jupyter-widgets/controls",
          "model_name": "HTMLModel",
          "model_module_version": "1.5.0",
          "state": {
            "_dom_classes": [],
            "_model_module": "@jupyter-widgets/controls",
            "_model_module_version": "1.5.0",
            "_model_name": "HTMLModel",
            "_view_count": null,
            "_view_module": "@jupyter-widgets/controls",
            "_view_module_version": "1.5.0",
            "_view_name": "HTMLView",
            "description": "",
            "description_tooltip": null,
            "layout": "IPY_MODEL_a6a3de66afb5463d97cfc48bfe624192",
            "placeholder": "​",
            "style": "IPY_MODEL_627e41d66bb8456c861478654a85c73d",
            "value": "Epochs: 100%"
          }
        },
        "f0f346f28cc3485ca957cfd3080482d0": {
          "model_module": "@jupyter-widgets/controls",
          "model_name": "FloatProgressModel",
          "model_module_version": "1.5.0",
          "state": {
            "_dom_classes": [],
            "_model_module": "@jupyter-widgets/controls",
            "_model_module_version": "1.5.0",
            "_model_name": "FloatProgressModel",
            "_view_count": null,
            "_view_module": "@jupyter-widgets/controls",
            "_view_module_version": "1.5.0",
            "_view_name": "ProgressView",
            "bar_style": "success",
            "description": "",
            "description_tooltip": null,
            "layout": "IPY_MODEL_d6fd5157ffa04201a747044160e69853",
            "max": 55000,
            "min": 0,
            "orientation": "horizontal",
            "style": "IPY_MODEL_fd0e73ff225248c3b6eba155fed9e508",
            "value": 55000
          }
        },
        "7bb875779b7d421d80b1b25b276d0b26": {
          "model_module": "@jupyter-widgets/controls",
          "model_name": "HTMLModel",
          "model_module_version": "1.5.0",
          "state": {
            "_dom_classes": [],
            "_model_module": "@jupyter-widgets/controls",
            "_model_module_version": "1.5.0",
            "_model_name": "HTMLModel",
            "_view_count": null,
            "_view_module": "@jupyter-widgets/controls",
            "_view_module_version": "1.5.0",
            "_view_name": "HTMLView",
            "description": "",
            "description_tooltip": null,
            "layout": "IPY_MODEL_6c9f79c511b74c3f80b3e332f1f3847f",
            "placeholder": "​",
            "style": "IPY_MODEL_186e89abb0b9493fa3d7171ce1397185",
            "value": " 55000/55000 [23:10&lt;00:00, 38.73it/s]"
          }
        },
        "e1d6c55abe744a96a5abcdb6ae7aee19": {
          "model_module": "@jupyter-widgets/base",
          "model_name": "LayoutModel",
          "model_module_version": "1.2.0",
          "state": {
            "_model_module": "@jupyter-widgets/base",
            "_model_module_version": "1.2.0",
            "_model_name": "LayoutModel",
            "_view_count": null,
            "_view_module": "@jupyter-widgets/base",
            "_view_module_version": "1.2.0",
            "_view_name": "LayoutView",
            "align_content": null,
            "align_items": null,
            "align_self": null,
            "border": null,
            "bottom": null,
            "display": null,
            "flex": null,
            "flex_flow": null,
            "grid_area": null,
            "grid_auto_columns": null,
            "grid_auto_flow": null,
            "grid_auto_rows": null,
            "grid_column": null,
            "grid_gap": null,
            "grid_row": null,
            "grid_template_areas": null,
            "grid_template_columns": null,
            "grid_template_rows": null,
            "height": null,
            "justify_content": null,
            "justify_items": null,
            "left": null,
            "margin": null,
            "max_height": null,
            "max_width": null,
            "min_height": null,
            "min_width": null,
            "object_fit": null,
            "object_position": null,
            "order": null,
            "overflow": null,
            "overflow_x": null,
            "overflow_y": null,
            "padding": null,
            "right": null,
            "top": null,
            "visibility": null,
            "width": null
          }
        },
        "a6a3de66afb5463d97cfc48bfe624192": {
          "model_module": "@jupyter-widgets/base",
          "model_name": "LayoutModel",
          "model_module_version": "1.2.0",
          "state": {
            "_model_module": "@jupyter-widgets/base",
            "_model_module_version": "1.2.0",
            "_model_name": "LayoutModel",
            "_view_count": null,
            "_view_module": "@jupyter-widgets/base",
            "_view_module_version": "1.2.0",
            "_view_name": "LayoutView",
            "align_content": null,
            "align_items": null,
            "align_self": null,
            "border": null,
            "bottom": null,
            "display": null,
            "flex": null,
            "flex_flow": null,
            "grid_area": null,
            "grid_auto_columns": null,
            "grid_auto_flow": null,
            "grid_auto_rows": null,
            "grid_column": null,
            "grid_gap": null,
            "grid_row": null,
            "grid_template_areas": null,
            "grid_template_columns": null,
            "grid_template_rows": null,
            "height": null,
            "justify_content": null,
            "justify_items": null,
            "left": null,
            "margin": null,
            "max_height": null,
            "max_width": null,
            "min_height": null,
            "min_width": null,
            "object_fit": null,
            "object_position": null,
            "order": null,
            "overflow": null,
            "overflow_x": null,
            "overflow_y": null,
            "padding": null,
            "right": null,
            "top": null,
            "visibility": null,
            "width": null
          }
        },
        "627e41d66bb8456c861478654a85c73d": {
          "model_module": "@jupyter-widgets/controls",
          "model_name": "DescriptionStyleModel",
          "model_module_version": "1.5.0",
          "state": {
            "_model_module": "@jupyter-widgets/controls",
            "_model_module_version": "1.5.0",
            "_model_name": "DescriptionStyleModel",
            "_view_count": null,
            "_view_module": "@jupyter-widgets/base",
            "_view_module_version": "1.2.0",
            "_view_name": "StyleView",
            "description_width": ""
          }
        },
        "d6fd5157ffa04201a747044160e69853": {
          "model_module": "@jupyter-widgets/base",
          "model_name": "LayoutModel",
          "model_module_version": "1.2.0",
          "state": {
            "_model_module": "@jupyter-widgets/base",
            "_model_module_version": "1.2.0",
            "_model_name": "LayoutModel",
            "_view_count": null,
            "_view_module": "@jupyter-widgets/base",
            "_view_module_version": "1.2.0",
            "_view_name": "LayoutView",
            "align_content": null,
            "align_items": null,
            "align_self": null,
            "border": null,
            "bottom": null,
            "display": null,
            "flex": null,
            "flex_flow": null,
            "grid_area": null,
            "grid_auto_columns": null,
            "grid_auto_flow": null,
            "grid_auto_rows": null,
            "grid_column": null,
            "grid_gap": null,
            "grid_row": null,
            "grid_template_areas": null,
            "grid_template_columns": null,
            "grid_template_rows": null,
            "height": null,
            "justify_content": null,
            "justify_items": null,
            "left": null,
            "margin": null,
            "max_height": null,
            "max_width": null,
            "min_height": null,
            "min_width": null,
            "object_fit": null,
            "object_position": null,
            "order": null,
            "overflow": null,
            "overflow_x": null,
            "overflow_y": null,
            "padding": null,
            "right": null,
            "top": null,
            "visibility": null,
            "width": null
          }
        },
        "fd0e73ff225248c3b6eba155fed9e508": {
          "model_module": "@jupyter-widgets/controls",
          "model_name": "ProgressStyleModel",
          "model_module_version": "1.5.0",
          "state": {
            "_model_module": "@jupyter-widgets/controls",
            "_model_module_version": "1.5.0",
            "_model_name": "ProgressStyleModel",
            "_view_count": null,
            "_view_module": "@jupyter-widgets/base",
            "_view_module_version": "1.2.0",
            "_view_name": "StyleView",
            "bar_color": null,
            "description_width": ""
          }
        },
        "6c9f79c511b74c3f80b3e332f1f3847f": {
          "model_module": "@jupyter-widgets/base",
          "model_name": "LayoutModel",
          "model_module_version": "1.2.0",
          "state": {
            "_model_module": "@jupyter-widgets/base",
            "_model_module_version": "1.2.0",
            "_model_name": "LayoutModel",
            "_view_count": null,
            "_view_module": "@jupyter-widgets/base",
            "_view_module_version": "1.2.0",
            "_view_name": "LayoutView",
            "align_content": null,
            "align_items": null,
            "align_self": null,
            "border": null,
            "bottom": null,
            "display": null,
            "flex": null,
            "flex_flow": null,
            "grid_area": null,
            "grid_auto_columns": null,
            "grid_auto_flow": null,
            "grid_auto_rows": null,
            "grid_column": null,
            "grid_gap": null,
            "grid_row": null,
            "grid_template_areas": null,
            "grid_template_columns": null,
            "grid_template_rows": null,
            "height": null,
            "justify_content": null,
            "justify_items": null,
            "left": null,
            "margin": null,
            "max_height": null,
            "max_width": null,
            "min_height": null,
            "min_width": null,
            "object_fit": null,
            "object_position": null,
            "order": null,
            "overflow": null,
            "overflow_x": null,
            "overflow_y": null,
            "padding": null,
            "right": null,
            "top": null,
            "visibility": null,
            "width": null
          }
        },
        "186e89abb0b9493fa3d7171ce1397185": {
          "model_module": "@jupyter-widgets/controls",
          "model_name": "DescriptionStyleModel",
          "model_module_version": "1.5.0",
          "state": {
            "_model_module": "@jupyter-widgets/controls",
            "_model_module_version": "1.5.0",
            "_model_name": "DescriptionStyleModel",
            "_view_count": null,
            "_view_module": "@jupyter-widgets/base",
            "_view_module_version": "1.2.0",
            "_view_name": "StyleView",
            "description_width": ""
          }
        }
      }
    }
  },
  "cells": [
    {
      "cell_type": "code",
      "execution_count": null,
      "metadata": {
        "cellView": "form",
        "id": "ZnVIZSP2GxZc"
      },
      "outputs": [],
      "source": [
        "#@title Imports\n",
        "import torch\n",
        "import torch.nn.functional as F\n",
        "import math\n",
        "import torch.nn as nn\n",
        "from transformers import GPT2Config, GPT2Model\n",
        "from transformers.models.gpt2.modeling_gpt2 import ACT2FN\n",
        "\n",
        "from tqdm.auto import tqdm\n",
        "import wandb\n",
        "import numpy as np\n",
        "import matplotlib.pyplot as plt"
      ]
    },
    {
      "cell_type": "code",
      "source": [
        "#@title Utilities\n",
        "import os\n",
        "import torch\n",
        "\n",
        "try:\n",
        "    # In Colab, this will import drive; if you're not on Colab you can omit or replace this.\n",
        "    from google.colab import drive\n",
        "    _COLAB = True\n",
        "except ImportError:\n",
        "    _COLAB = False\n",
        "\n",
        "def save_model(model: torch.nn.Module,\n",
        "                         folder: str,\n",
        "                         filename: str,\n",
        "                         mount_point: str = '/content/drive'):\n",
        "    \"\"\"\n",
        "    Saves model.state_dict() into Google Drive.\n",
        "\n",
        "    Args:\n",
        "        model:        your torch.nn.Module\n",
        "        gdrive_folder: path inside \"My Drive\" (e.g. 'models/checkpoints')\n",
        "        filename:     filename to save as (e.g. 'resnet50.pth')\n",
        "        mount_point:  where Drive is mounted (Colab default '/content/drive')\n",
        "    \"\"\"\n",
        "    # 1. Mount Drive if needed\n",
        "    if _COLAB and not os.path.exists(mount_point):\n",
        "        drive.mount(mount_point)\n",
        "\n",
        "    # 2. Build the full path under \"My Drive\"\n",
        "    full_folder = os.path.join(mount_point, 'My Drive', folder)\n",
        "    os.makedirs(full_folder, exist_ok=True)\n",
        "\n",
        "    # 3. Save the state dict\n",
        "    target_path = os.path.join(full_folder, filename)\n",
        "    torch.save(model.state_dict(), target_path)\n",
        "\n",
        "    print(f\"[✅] Saved state_dict to {target_path}\")\n",
        "print(_COLAB)\n",
        "drive.mount('/content/drive')"
      ],
      "metadata": {
        "colab": {
          "base_uri": "https://localhost:8080/"
        },
        "cellView": "form",
        "id": "jM8diOajHSUP",
        "outputId": "20f4bb5c-a82f-406a-edc1-5f15d72e702d"
      },
      "execution_count": null,
      "outputs": [
        {
          "output_type": "stream",
          "name": "stdout",
          "text": [
            "True\n",
            "Mounted at /content/drive\n"
          ]
        }
      ]
    },
    {
      "cell_type": "code",
      "source": [
        "#@title Data Generation\n",
        "def generate_sine_batch(\n",
        "    batch_size: int,\n",
        "    grid_len: int,\n",
        "    rand_len: int,\n",
        "    num_sines: int = 16,\n",
        "    domain=(0.0, 1.0), # period\n",
        "    random_domain_factor: int = 2,\n",
        "    device=torch.device('cuda'),\n",
        "):\n",
        "    \"\"\"\n",
        "    Returns a batch of interleaved [t, f(t)] sequences, all generated on `device`.\n",
        "\n",
        "    - grid_len:               number of evenly spaced t’s (torch.linspace over domain)\n",
        "    - rand_len:               number of additional random t’s per sample (uniform over domain)\n",
        "    - num_sines:              number of sine components (frequencies 1..num_sines)\n",
        "    - domain:                 (t_min, t_max) should be the length of one period\n",
        "    - random_domain_factor:   number of periods to sample over\n",
        "    \"\"\"\n",
        "    t_min, t_max = domain\n",
        "\n",
        "    t_base = torch.linspace(t_min, t_max, steps=grid_len, device=device)\n",
        "    rand_mat = torch.rand(batch_size, grid_len, device=device)\n",
        "    perms   = rand_mat.argsort(dim=1)\n",
        "\n",
        "    # 1) make the grid ts: shape (1, grid_len) -> expand to (batch_size, grid_len)\n",
        "    t_grid = t_base.unsqueeze(0).expand(batch_size, -1)\n",
        "    t_grid = t_grid.gather(1, perms)\n",
        "\n",
        "    # 2) make the random ts: shape (batch_size, rand_len)\n",
        "    # t_rand = torch.rand(batch_size, rand_len, device=device) * random_domain_factor * (t_max - t_min) + t_min # uniform random sampling\n",
        "    t_rand = torch.randn(batch_size, rand_len, device=device) * 1 + 1 # normal random sampling with mu = 1, stdev = 1,\n",
        "\n",
        "    # 3) concat to get all ts: shape (batch_size, total_len)\n",
        "    t_all = torch.cat([t_grid, t_rand], dim=1)\n",
        "    total_len = grid_len + rand_len\n",
        "\n",
        "    # 4) prepare your sine parameters on GPU:\n",
        "    #    freqs = [[1,2,3,...,num_sines]] for each batch\n",
        "    freqs  = 2 * torch.pi * torch.arange(1, num_sines+1, device=device) \\\n",
        "                   .unsqueeze(0) \\\n",
        "                   .expand(batch_size, num_sines)\n",
        "    #    phases = 0 or π/2 at random\n",
        "    phases = torch.randint(0, 2, (batch_size, num_sines), device=device) \\\n",
        "                   .to(torch.float) * (math.pi/2)\n",
        "    #    amplitudes still random in [0,1)\n",
        "    amps    = torch.rand(batch_size, num_sines, device=device)\n",
        "\n",
        "    # 5) compute each wave over all ts:\n",
        "    #    expand t_all to (batch_size, 1, total_len) so it broadcasts\n",
        "    t_exp = t_all.unsqueeze(1)                     # (B, 1, L)\n",
        "    arg   = freqs.unsqueeze(-1) * t_exp + phases.unsqueeze(-1)  # (B, S, L)\n",
        "    waves = amps.unsqueeze(-1) * torch.sin(arg)    # (B, S, L)\n",
        "\n",
        "    # 6) sum over the S sines → (batch_size, total_len)\n",
        "    f_all = waves.sum(dim=1)\n",
        "\n",
        "    # 7) interleave t and f(t): stack→(B, L, 2) then flatten → (B, 2*L)\n",
        "    interleaved = torch.stack([t_all, f_all], dim=-1)  # (B, L, 2)\n",
        "    return interleaved.view(batch_size, total_len * 2)\n"
      ],
      "metadata": {
        "cellView": "form",
        "id": "zaYzTrEILF7R"
      },
      "execution_count": null,
      "outputs": []
    },
    {
      "cell_type": "code",
      "source": [
        "#@title Model Definition\n",
        "import torch\n",
        "import torch.nn as nn\n",
        "from transformers import GPT2Config, GPT2Model\n",
        "\n",
        "### Defaults are equivalent to 'standard' in Garg et al.\n",
        "\n",
        "class GPT2Regressor(nn.Module):\n",
        "    def __init__(\n",
        "        self,\n",
        "        input_dim: int,\n",
        "        output_dim: int = 1,\n",
        "        hidden_dim: int = 256,\n",
        "        num_layers: int = 12,\n",
        "        num_heads: int = 8,\n",
        "        # vocab_size: int = 1,\n",
        "        max_seq_len: int = 128,\n",
        "        dropout: float = 0.0,\n",
        "        activation_fn: str = None,\n",
        "    ):\n",
        "        \"\"\"\n",
        "        Args:\n",
        "            input_dim:    dimensionality D of each real-valued input vector.\n",
        "            output_dim:   dimensionality of each real-valued output (defaults to a scalar).\n",
        "            hidden_dim:   GPT embedding size (n_embd).\n",
        "            num_layers:   number of transformer blocks.\n",
        "            num_heads:    number of attention heads.\n",
        "            vocab_size:   dummy vocab size (we bypass wte by using inputs_embeds).\n",
        "            max_seq_len:  max context length (n_positions / n_ctx).\n",
        "            dropout:      dropout probability for embeddings & residuals.\n",
        "        \"\"\"\n",
        "        super().__init__()\n",
        "        # 1) a learnable linear projection from your R^input_dim into GPT's embedding space\n",
        "        self.input_proj = nn.Linear(input_dim, hidden_dim)\n",
        "\n",
        "        # 2) build a GPT-2 config & model\n",
        "        config = GPT2Config(\n",
        "            # vocab_size=vocab_size,\n",
        "            n_embd=hidden_dim,\n",
        "            n_layer=num_layers,\n",
        "            n_head=num_heads,\n",
        "            n_positions=max_seq_len,\n",
        "            n_ctx=max_seq_len,\n",
        "            resid_pdrop=dropout,\n",
        "            embd_pdrop=dropout,\n",
        "            attn_pdrop=dropout,\n",
        "        )\n",
        "        if activation_fn is not None:\n",
        "            config.activation_function = activation_fn\n",
        "        self.transformer = GPT2Model(config)\n",
        "\n",
        "        # 3) a tiny head to map hidden states back down to your real-valued output\n",
        "        self.dropout = nn.Dropout(dropout)\n",
        "        self.output_proj = nn.Linear(hidden_dim, output_dim)\n",
        "\n",
        "    def forward(\n",
        "        self,\n",
        "        x: torch.Tensor,\n",
        "        attention_mask: torch.Tensor = None,\n",
        "    ) -> torch.Tensor:\n",
        "        \"\"\"\n",
        "        Args:\n",
        "            x:               (batch, seq_len, input_dim) real-valued inputs\n",
        "            attention_mask:  (batch, seq_len) mask (1 = keep, 0 = pad), optional\n",
        "\n",
        "        Returns:\n",
        "            preds: (batch, seq_len, output_dim) real-valued outputs\n",
        "        \"\"\"\n",
        "        # project inputs into the GPT embedding space\n",
        "        # -> (batch, seq_len, hidden_dim)\n",
        "        embeddings = self.input_proj(x)\n",
        "\n",
        "        # feed into GPT-2; note: we pass inputs_embeds to bypass the token\n",
        "        # embedding lookup (wte). GPT2Model will add its positional embeddings.\n",
        "        outputs = self.transformer(\n",
        "            inputs_embeds=embeddings,\n",
        "            attention_mask=attention_mask,\n",
        "        )\n",
        "        # last_hidden_state: (batch, seq_len, hidden_dim)\n",
        "        h = outputs.last_hidden_state\n",
        "\n",
        "        # optional dropout + final linear layer\n",
        "        h = self.dropout(h)\n",
        "        preds = self.output_proj(h)  # (batch, seq_len, output_dim)\n",
        "\n",
        "        return preds\n",
        "\n",
        "class XPlusSin2(nn.Module): # Sinosoidal activation from Ziyin et al. (2020)\n",
        "    def forward(self, x: torch.Tensor) -> torch.Tensor:\n",
        "        # x + ( sin(x) )^2\n",
        "        return x + torch.sin(x).pow(2)\n",
        "\n",
        "ACT2FN[\"x_plus_sin2\"] = XPlusSin2"
      ],
      "metadata": {
        "cellView": "form",
        "id": "lRfinWIcSjZg"
      },
      "execution_count": null,
      "outputs": []
    },
    {
      "cell_type": "markdown",
      "source": [
        "Note: Curriculum learning proved to be essential in training. Controlled for training steps, curriculum learning consistently reaches lower loss more quickly than training in a non-curricular fashion."
      ],
      "metadata": {
        "id": "dJxSMbLdUhtv"
      }
    },
    {
      "cell_type": "code",
      "source": [
        "#@title Training Loop\n",
        "wandb.login()  # will prompt you to paste your API key in Colab\n",
        "\n",
        "NUM_WAVES = 5\n",
        "\n",
        "wandb.init(\n",
        "    project=\"icl_new\",\n",
        "    name=f\"sine-fit-run_MAX_WAVES={NUM_WAVES}_norm\",\n",
        "    config={\n",
        "        \"batch_size\": 32,\n",
        "        \"grid_len\":    2 * NUM_WAVES + 1, # must be strictly greater than 2 * n_waves\n",
        "        \"rand_len\":    2 * NUM_WAVES + 1 * 2, # multiply by an additional two with gaussian random t to see if that makes it train better\n",
        "        \"lr\":          1e-4,\n",
        "        \"epochs\":      55_000, #15_000, # Testing with NUM_WAVES=1 showed that the model converged in ~3k steps, 3k * NUM_WAVES = 15k\n",
        "        \"name\": f\"sine-fit-run_MAX_WAVES={NUM_WAVES}_norm\"\n",
        "        # \"hidden_dim\":  256,\n",
        "    }\n",
        ")\n",
        "\n",
        "cfg = wandb.config\n",
        "\n",
        "device = torch.device('cuda' if torch.cuda.is_available() else 'cpu')\n",
        "\n",
        "# 2) Model + optimizer\n",
        "model = GPT2Regressor(\n",
        "    input_dim=1,\n",
        "    output_dim=1,\n",
        "    # hidden_dim=cfg.hidden_dim,\n",
        "    max_seq_len=2*(cfg.grid_len + cfg.rand_len),\n",
        ").to(device)\n",
        "opt   = torch.optim.Adam(model.parameters(), lr=cfg.lr)\n",
        "\n",
        "# how often to checkpoint (in epochs)\n",
        "save_every = 10_000\n",
        "ckpt_folder = \"icl_new/checkpoints\"\n",
        "\n",
        "global_step = 0\n",
        "for epoch in tqdm(range(1, cfg.epochs+1), desc=\"Epochs\"):\n",
        "    model.train()\n",
        "\n",
        "    # 1) get a fresh batch\n",
        "    x_flat = generate_sine_batch(cfg.batch_size, cfg.grid_len, cfg.rand_len, num_sines=(1 + global_step % NUM_WAVES), device=device)\n",
        "    B, total_flat = x_flat.shape\n",
        "    L = cfg.grid_len + cfg.rand_len\n",
        "    seq_len = 2 * L\n",
        "\n",
        "    # 2) un-flatten into (B, seq_len, 1)\n",
        "    x = x_flat.view(B, seq_len, 1)           # this is your [t,f,t,f,…]\n",
        "    targets = x.clone().squeeze(-1)          # we’ll need the true values for loss\n",
        "\n",
        "    # 3) build the same mask logic\n",
        "    idx      = torch.arange(seq_len, device=device)\n",
        "    pair_idx = idx // 2\n",
        "    is_f     = (idx % 2 == 1)\n",
        "    is_pred  = (pair_idx >= cfg.grid_len)\n",
        "    loss_mask= (is_f & is_pred)             # shape (seq_len,)\n",
        "    loss_mask_batch = loss_mask.unsqueeze(0).expand(B, -1)  # (B, seq_len)\n",
        "\n",
        "    # 4) **zero-out the input f’s in the prediction half** so the model never “sees” them\n",
        "    inp = x.clone()\n",
        "    inp[loss_mask_batch.unsqueeze(-1)] = 0.0\n",
        "\n",
        "    # forward pass on masked input\n",
        "    preds = model(inp).squeeze(-1)           # (B, seq_len)\n",
        "\n",
        "    # 6) compute MSE only on the masked-out positions\n",
        "    loss = F.mse_loss(\n",
        "        preds[loss_mask_batch],\n",
        "        targets[loss_mask_batch]\n",
        "    )\n",
        "\n",
        "    # 7) backward / step / log / checkpoint as before\n",
        "    opt.zero_grad()\n",
        "    loss.backward()\n",
        "    opt.step()\n",
        "\n",
        "    global_step += 1\n",
        "    wandb.log({\"loss vs steps\": loss.item()}, step=global_step)\n",
        "\n",
        "    if epoch % save_every == 0:\n",
        "        fname = f\"{cfg.name}{epoch:03d}.pth\"\n",
        "        save_model(model, ckpt_folder, fname)\n",
        "\n",
        "save_model(model, ckpt_folder, f\"{cfg.name}_final\")\n",
        "wandb.finish()"
      ],
      "metadata": {
        "id": "b5jSh2kYCG87",
        "cellView": "form"
      },
      "execution_count": null,
      "outputs": []
    },
    {
      "cell_type": "code",
      "source": [
        "#@title Curriculum Learning Loop\n",
        "import os\n",
        "import torch\n",
        "import torch.nn.functional as F\n",
        "from tqdm.auto import tqdm\n",
        "import wandb\n",
        "\n",
        "\n",
        "# ── 1) WandB & curriculum config ──────────────────────────────────────────\n",
        "MAX_WAVES = 5\n",
        "wandb.login()\n",
        "wandb.init(\n",
        "    project=\"icl_new\",\n",
        "    name=f\"sine-fit-curriculum_MAX_WAVES={MAX_WAVES}_\",\n",
        "    config={\n",
        "        \"batch_size\": 32,\n",
        "        \"lr\":          1e-4,\n",
        "        \"epochs\":      55_000, # for multiple freqs, takes ~10k to reach min loss # ~3k was how long it took to reach min loss on the WAVES=1 task, 3k * 5 stages = 15k epochs\n",
        "        \"max_waves\":   MAX_WAVES,            # FINAL number of superimposed sines\n",
        "        \"save_every\":  10_000,\n",
        "        \"name\": f\"sine-fit-curriculum_MAX_WAVES={MAX_WAVES}_\",\n",
        "    }\n",
        ")\n",
        "cfg = wandb.config\n",
        "\n",
        "# schedule_length: how many epochs to spend at each wave-count\n",
        "# (we have waves = 1,2,…,max_waves ⇒ max_waves−1 transitions)\n",
        "schedule_length = cfg.epochs // cfg.max_waves\n",
        "\n",
        "# ── 2) Model init ─────────────────────────────────────────────────────────\n",
        "# compute the maximum possible seq_len = 2 * [(2*max_waves+1) * 2]\n",
        "max_grid   = 2*cfg.max_waves + 1\n",
        "max_rand   = max_grid\n",
        "max_seq_len= 2 * (max_grid + max_rand)\n",
        "\n",
        "device = torch.device('cuda' if torch.cuda.is_available() else 'cpu')\n",
        "cur_model = GPT2Regressor(\n",
        "    input_dim=1,\n",
        "    output_dim=1,\n",
        "    max_seq_len=max_seq_len,\n",
        ").to(device)\n",
        "opt = torch.optim.Adam(cur_model.parameters(), lr=cfg.lr)\n",
        "\n",
        "# ── 3) Training with curriculum ───────────────────────────────────────────\n",
        "global_step = 0\n",
        "for epoch in tqdm(range(1, cfg.epochs + 1), desc=\"Epochs\"):\n",
        "\n",
        "    # determine how many waves to use this epoch\n",
        "    # starts at 1, every `schedule_length` epochs increments by 1\n",
        "    cur_waves = min(\n",
        "        cfg.max_waves,\n",
        "        1 + (epoch - 1) // schedule_length\n",
        "    )\n",
        "\n",
        "    # recompute your grid & rand lengths on the fly\n",
        "    grid_len = 2*cur_waves + 1\n",
        "    rand_len = grid_len\n",
        "    L        = grid_len + rand_len\n",
        "    seq_len  = 2 * L\n",
        "\n",
        "    # 1) generate batch of interleaved [t,f]\n",
        "    x_flat = generate_sine_batch(\n",
        "        cfg.batch_size,\n",
        "        grid_len,\n",
        "        rand_len,\n",
        "        num_sines=cur_waves,\n",
        "        device=device\n",
        "    )  # shape (B, 2*L)\n",
        "\n",
        "    B, _    = x_flat.shape\n",
        "    x       = x_flat.view(B, seq_len, 1)        # (B, seq_len, 1)\n",
        "    targets = x.clone().squeeze(-1)             # (B, seq_len)\n",
        "\n",
        "    # 2) build mask for f-values in the last rand_len pairs\n",
        "    idx       = torch.arange(seq_len, device=device)\n",
        "    pair_idx  = idx // 2\n",
        "    is_f      = (idx % 2 == 1)\n",
        "    is_pred   = (pair_idx >= grid_len)\n",
        "    loss_mask = (is_f & is_pred)                # (seq_len,)\n",
        "    mask_b    = loss_mask.unsqueeze(0).expand(B, -1)  # (B, seq_len)\n",
        "\n",
        "    # 3) zero out the INPUT f’s in the prediction half so model can’t cheat\n",
        "    inp = x.clone()\n",
        "    inp[mask_b.unsqueeze(-1)] = 0.0\n",
        "\n",
        "    # 4) forward + loss\n",
        "    preds = cur_model(inp).squeeze(-1)               # (B, seq_len)\n",
        "    loss  = F.mse_loss(\n",
        "        preds[mask_b],\n",
        "        targets[mask_b]\n",
        "    )\n",
        "\n",
        "    # 5) backward / step\n",
        "    opt.zero_grad()\n",
        "    loss.backward()\n",
        "    opt.step()\n",
        "\n",
        "    # 6) logging & checkpointing\n",
        "    global_step += 1\n",
        "    wandb.log({\n",
        "        \"loss vs steps\":   loss.item(),\n",
        "        \"train/num_waves\": cur_waves\n",
        "    }, step=global_step)\n",
        "\n",
        "    if epoch % cfg.save_every == 0:\n",
        "        fname = f\"{cfg.name}{epoch:03d}.pth\"\n",
        "        save_model(cur_model, \"icl_new/checkpoints\", fname)\n",
        "\n",
        "# final save\n",
        "save_model(cur_model, \"icl_new/checkpoints\", f\"{cfg.name}_final.pth\")\n",
        "wandb.finish()\n"
      ],
      "metadata": {
        "colab": {
          "base_uri": "https://localhost:8080/",
          "height": 946,
          "referenced_widgets": [
            "badab5598cc6415fad3d2ff6385c7e33",
            "84648b03137947608aa6930b4c76dd14",
            "2a5a0bdcca9748efb214ad7171b7ab28",
            "92dde39e3143433f9b9435ee50bb3b45",
            "467fde75016d43edaba73a6b8e344450",
            "6db40b637e444352a2e28a4dd920cae8",
            "55d2ee6eecf348a9b92dd30f12dcc64c",
            "846e39eb24d5402c9a2eff7e4548b24f",
            "a1ee59ea43db432db4f778810e6c368f",
            "391641b6d24f446ba69b30830ee345b0",
            "8f58734c6b7540d48326d96cc61d4644"
          ]
        },
        "cellView": "form",
        "id": "Sdcpi1Q4DPJk",
        "outputId": "138e1b1a-3ffd-4599-e67a-43cb8fc45aaa"
      },
      "execution_count": null,
      "outputs": [
        {
          "output_type": "stream",
          "name": "stderr",
          "text": [
            "\u001b[34m\u001b[1mwandb\u001b[0m: \u001b[33mWARNING\u001b[0m Calling wandb.login() after wandb.init() has no effect.\n"
          ]
        },
        {
          "output_type": "display_data",
          "data": {
            "text/plain": [
              "<IPython.core.display.HTML object>"
            ],
            "text/html": []
          },
          "metadata": {}
        },
        {
          "output_type": "display_data",
          "data": {
            "text/plain": [
              "<IPython.core.display.HTML object>"
            ],
            "text/html": [
              "<br>    <style><br>        .wandb-row {<br>            display: flex;<br>            flex-direction: row;<br>            flex-wrap: wrap;<br>            justify-content: flex-start;<br>            width: 100%;<br>        }<br>        .wandb-col {<br>            display: flex;<br>            flex-direction: column;<br>            flex-basis: 100%;<br>            flex: 1;<br>            padding: 10px;<br>        }<br>    </style><br><div class=\"wandb-row\"><div class=\"wandb-col\"><h3>Run history:</h3><br/><table class=\"wandb\"><tr><td>loss vs steps</td><td>▄▄▅█▇▁▅▄▆▄▅▄▄▃▆▆▅▃▄▄▄▅▄▃▄▅▆▇▃▅▁▄▄▂▅▅▂▃▁▂</td></tr><tr><td>train/num_waves</td><td>▁▁▁▁▁▁▁▁▁▁▁▁▁▁▁▁▁▁▁▁▁▁▁▁▁▁▁▁▁▁▁▁▁▁▁▁▁▁▁▁</td></tr></table><br/></div><div class=\"wandb-col\"><h3>Run summary:</h3><br/><table class=\"wandb\"><tr><td>loss vs steps</td><td>0.18484</td></tr><tr><td>train/num_waves</td><td>1</td></tr></table><br/></div></div>"
            ]
          },
          "metadata": {}
        },
        {
          "output_type": "display_data",
          "data": {
            "text/plain": [
              "<IPython.core.display.HTML object>"
            ],
            "text/html": [
              " View run <strong style=\"color:#cdcd00\">sine-fit-curriculum_MAX_WAVES=5</strong> at: <a href='https://wandb.ai/drnestedloop-university-of-california-berkeley/icl_new/runs/wpnr30rr' target=\"_blank\">https://wandb.ai/drnestedloop-university-of-california-berkeley/icl_new/runs/wpnr30rr</a><br> View project at: <a href='https://wandb.ai/drnestedloop-university-of-california-berkeley/icl_new' target=\"_blank\">https://wandb.ai/drnestedloop-university-of-california-berkeley/icl_new</a><br>Synced 5 W&B file(s), 0 media file(s), 0 artifact file(s) and 0 other file(s)"
            ]
          },
          "metadata": {}
        },
        {
          "output_type": "display_data",
          "data": {
            "text/plain": [
              "<IPython.core.display.HTML object>"
            ],
            "text/html": [
              "Find logs at: <code>./wandb/run-20250424_181523-wpnr30rr/logs</code>"
            ]
          },
          "metadata": {}
        },
        {
          "output_type": "display_data",
          "data": {
            "text/plain": [
              "<IPython.core.display.HTML object>"
            ],
            "text/html": [
              "Tracking run with wandb version 0.19.9"
            ]
          },
          "metadata": {}
        },
        {
          "output_type": "display_data",
          "data": {
            "text/plain": [
              "<IPython.core.display.HTML object>"
            ],
            "text/html": [
              "Run data is saved locally in <code>/content/wandb/run-20250424_181930-qw3yqsp7</code>"
            ]
          },
          "metadata": {}
        },
        {
          "output_type": "display_data",
          "data": {
            "text/plain": [
              "<IPython.core.display.HTML object>"
            ],
            "text/html": [
              "Syncing run <strong><a href='https://wandb.ai/drnestedloop-university-of-california-berkeley/icl_new/runs/qw3yqsp7' target=\"_blank\">sine-fit-curriculum_MAX_WAVES=5_</a></strong> to <a href='https://wandb.ai/drnestedloop-university-of-california-berkeley/icl_new' target=\"_blank\">Weights & Biases</a> (<a href='https://wandb.me/developer-guide' target=\"_blank\">docs</a>)<br>"
            ]
          },
          "metadata": {}
        },
        {
          "output_type": "display_data",
          "data": {
            "text/plain": [
              "<IPython.core.display.HTML object>"
            ],
            "text/html": [
              " View project at <a href='https://wandb.ai/drnestedloop-university-of-california-berkeley/icl_new' target=\"_blank\">https://wandb.ai/drnestedloop-university-of-california-berkeley/icl_new</a>"
            ]
          },
          "metadata": {}
        },
        {
          "output_type": "display_data",
          "data": {
            "text/plain": [
              "<IPython.core.display.HTML object>"
            ],
            "text/html": [
              " View run at <a href='https://wandb.ai/drnestedloop-university-of-california-berkeley/icl_new/runs/qw3yqsp7' target=\"_blank\">https://wandb.ai/drnestedloop-university-of-california-berkeley/icl_new/runs/qw3yqsp7</a>"
            ]
          },
          "metadata": {}
        },
        {
          "output_type": "display_data",
          "data": {
            "text/plain": [
              "Epochs:   0%|          | 0/55000 [00:00<?, ?it/s]"
            ],
            "application/vnd.jupyter.widget-view+json": {
              "version_major": 2,
              "version_minor": 0,
              "model_id": "badab5598cc6415fad3d2ff6385c7e33"
            }
          },
          "metadata": {}
        },
        {
          "output_type": "stream",
          "name": "stdout",
          "text": [
            "[✅] Saved state_dict to /content/drive/My Drive/icl_new/checkpoints/sine-fit-curriculum_MAX_WAVES=5_10000.pth\n",
            "[✅] Saved state_dict to /content/drive/My Drive/icl_new/checkpoints/sine-fit-curriculum_MAX_WAVES=5_20000.pth\n",
            "[✅] Saved state_dict to /content/drive/My Drive/icl_new/checkpoints/sine-fit-curriculum_MAX_WAVES=5_30000.pth\n",
            "[✅] Saved state_dict to /content/drive/My Drive/icl_new/checkpoints/sine-fit-curriculum_MAX_WAVES=5_40000.pth\n",
            "[✅] Saved state_dict to /content/drive/My Drive/icl_new/checkpoints/sine-fit-curriculum_MAX_WAVES=5_50000.pth\n",
            "[✅] Saved state_dict to /content/drive/My Drive/icl_new/checkpoints/sine-fit-curriculum_MAX_WAVES=5__final.pth\n"
          ]
        },
        {
          "output_type": "display_data",
          "data": {
            "text/plain": [
              "<IPython.core.display.HTML object>"
            ],
            "text/html": []
          },
          "metadata": {}
        },
        {
          "output_type": "display_data",
          "data": {
            "text/plain": [
              "<IPython.core.display.HTML object>"
            ],
            "text/html": [
              "<br>    <style><br>        .wandb-row {<br>            display: flex;<br>            flex-direction: row;<br>            flex-wrap: wrap;<br>            justify-content: flex-start;<br>            width: 100%;<br>        }<br>        .wandb-col {<br>            display: flex;<br>            flex-direction: column;<br>            flex-basis: 100%;<br>            flex: 1;<br>            padding: 10px;<br>        }<br>    </style><br><div class=\"wandb-row\"><div class=\"wandb-col\"><h3>Run history:</h3><br/><table class=\"wandb\"><tr><td>loss vs steps</td><td>▆▇██▇▇▃▂▂▂▂▁▁▃▂▂▂▂▂▂▁▁▂▂▂▂▂▂▄▂▃▂▁▂▁▁▂▂▃▂</td></tr><tr><td>train/num_waves</td><td>▁▁▁▁▁▃▃▃▃▃▃▃▃▃▅▅▅▅▅▅▆▆▆▆▆▆▆▆▆▆▆█████████</td></tr></table><br/></div><div class=\"wandb-col\"><h3>Run summary:</h3><br/><table class=\"wandb\"><tr><td>loss vs steps</td><td>0.04758</td></tr><tr><td>train/num_waves</td><td>5</td></tr></table><br/></div></div>"
            ]
          },
          "metadata": {}
        },
        {
          "output_type": "display_data",
          "data": {
            "text/plain": [
              "<IPython.core.display.HTML object>"
            ],
            "text/html": [
              " View run <strong style=\"color:#cdcd00\">sine-fit-curriculum_MAX_WAVES=5_</strong> at: <a href='https://wandb.ai/drnestedloop-university-of-california-berkeley/icl_new/runs/qw3yqsp7' target=\"_blank\">https://wandb.ai/drnestedloop-university-of-california-berkeley/icl_new/runs/qw3yqsp7</a><br> View project at: <a href='https://wandb.ai/drnestedloop-university-of-california-berkeley/icl_new' target=\"_blank\">https://wandb.ai/drnestedloop-university-of-california-berkeley/icl_new</a><br>Synced 5 W&B file(s), 0 media file(s), 0 artifact file(s) and 0 other file(s)"
            ]
          },
          "metadata": {}
        },
        {
          "output_type": "display_data",
          "data": {
            "text/plain": [
              "<IPython.core.display.HTML object>"
            ],
            "text/html": [
              "Find logs at: <code>./wandb/run-20250424_181930-qw3yqsp7/logs</code>"
            ]
          },
          "metadata": {}
        }
      ]
    },
    {
      "cell_type": "code",
      "source": [
        "#@title Inference Tools\n",
        "def run_inference(\n",
        "    model: torch.nn.Module,\n",
        "    context: list[tuple[float, float]],\n",
        "    query_t: float,\n",
        "    device: torch.device = None,\n",
        ") -> float:\n",
        "    \"\"\"\n",
        "    Given:\n",
        "      - model:     a GPT2Regressor, already .to(device) and in eval() mode\n",
        "      - context:   list of (t, f(t)) pairs, length = m\n",
        "      - query_t:   the new t at which to predict f(t)\n",
        "    Returns:\n",
        "      - predicted f(query_t) as a Python float\n",
        "    \"\"\"\n",
        "    if device is None:\n",
        "        device = next(model.parameters()).device\n",
        "\n",
        "    # 1) flatten your context pairs → [t0,f0, t1,f1, …, t_{m-1},f_{m-1}]\n",
        "    seq = [v for pair in context for v in pair]\n",
        "\n",
        "    # 2) append the query t, plus a dummy 0.0 placeholder for f\n",
        "    seq += [query_t, 0.0]\n",
        "\n",
        "    # 3) to tensor of shape (1, seq_len, 1)\n",
        "    x = torch.tensor(seq, dtype=torch.float32, device=device).view(1, -1, 1)\n",
        "\n",
        "    # 4) attention mask (no padding here, so all ones)\n",
        "    attn_mask = torch.ones(1, x.size(1), dtype=torch.long, device=device)\n",
        "\n",
        "    # 5) forward, grab the last position’s output\n",
        "    with torch.no_grad():\n",
        "        out = model(x, attention_mask=attn_mask)   # (1, seq_len, 1)\n",
        "    f_pred = out[0, -1, 0].item()\n",
        "\n",
        "    return f_pred"
      ],
      "metadata": {
        "id": "w994RS3xWt7P",
        "cellView": "form"
      },
      "execution_count": null,
      "outputs": []
    },
    {
      "cell_type": "code",
      "source": [
        "#@title Eval and Visualization Tools\n",
        "def generate_test_context(n_waves):\n",
        "  required_samplings = 2 * n_waves + 1\n",
        "  t_vals = np.linspace(0, 1, required_samplings)\n",
        "  f_vals = np.zeros_like(t_vals)\n",
        "  for n in range(n_waves):\n",
        "    f_vals += np.random.rand() * np.sin(2 * np.pi * (n + 1) * t_vals + (np.random.rand() < 0.5) * np.pi/2)\n",
        "  return list(zip(t_vals, f_vals))\n",
        "def gen_comparison_graphs(model, num_waves, device=None, query_start=0.0, query_end=3.0):\n",
        "    \"\"\"\n",
        "    Generates a comparison plot of the true sum-of-sines vs. model predictions.\n",
        "\n",
        "    Args:\n",
        "        model:      a GPT2Regressor in eval() mode\n",
        "        num_waves:  number of sine components to superimpose\n",
        "        device:     torch device (defaults to model.device)\n",
        "        query_start:  t-value at which to start querying the model\n",
        "        query_end:  t-value at which to stop querying the model\n",
        "        NOTE: the range [query_start, query_end] should contain the context range ([0,1]) to avoid errors\n",
        "    \"\"\"\n",
        "    if device is None:\n",
        "        device = next(model.parameters()).device\n",
        "\n",
        "    # 1) Sample sine parameters\n",
        "    freqs = 2 * np.pi * np.arange(1, num_waves + 1)\n",
        "    phases = np.random.choice([0, np.pi/2], size=num_waves)\n",
        "    amps = np.random.rand(num_waves)\n",
        "\n",
        "    # 2) True compound sine function\n",
        "    def f_true(t):\n",
        "        res = np.zeros_like(t)\n",
        "        for a, f, p in zip(amps, freqs, phases):\n",
        "            res += a * np.sin(f * t + p)\n",
        "        return res\n",
        "\n",
        "    # 3) Build context: evenly spaced points in [0,1]\n",
        "    grid_len = 2 * num_waves + 1\n",
        "    context_ts = np.linspace(0, 1, grid_len)\n",
        "    context_fs = f_true(context_ts)\n",
        "    context = list(zip(context_ts.tolist(), context_fs.tolist()))\n",
        "\n",
        "    # 4) Query a dense set of points and collect model predictions\n",
        "    query_ts = np.linspace(query_start, query_end, 200)\n",
        "    preds = []\n",
        "    for t in query_ts:\n",
        "        pred = run_inference(model, context, float(t), device=device)\n",
        "        preds.append(pred)\n",
        "    preds = np.array(preds)\n",
        "\n",
        "    # 5) Plot true function, predictions, and context\n",
        "    plt.figure()\n",
        "    plt.plot(query_ts, f_true(query_ts))\n",
        "    plt.plot(query_ts, preds)\n",
        "    plt.scatter(context_ts, context_fs)\n",
        "    plt.title(f\"True vs. Predicted (num_waves={num_waves})\")\n",
        "    plt.xlabel(\"t\")\n",
        "    plt.ylabel(\"f(t)\")\n",
        "    plt.legend([\"True\", \"Predicted\", \"Context\"])\n",
        "    plt.show()\n",
        "\n",
        "# ── Example usage ─────────────────────────────────────────────────────────\n",
        "# model.load_state_dict(torch.load(...))\n",
        "# model.eval()\n",
        "# gen_comparison_graphs(model, num_waves=3)\n"
      ],
      "metadata": {
        "id": "dbDvT8BXKg8G",
        "cellView": "form"
      },
      "execution_count": null,
      "outputs": []
    },
    {
      "cell_type": "code",
      "source": [
        "#@title Train with Sinosoidal Activation\n",
        "\n",
        "\n",
        "# sinosoidal activation function from Ziyin et al. 2020\n",
        "class XPlusSin2(nn.Module):\n",
        "    def forward(self, x: torch.Tensor) -> torch.Tensor:\n",
        "        # x + ( sin(x) )^2\n",
        "        return x + torch.sin(x).pow(2)\n",
        "\n",
        "ACT2FN[\"x_plus_sin2\"] = XPlusSin2\n",
        "\n",
        "wandb.login()  # will prompt you to paste your API key in Colab\n",
        "\n",
        "NUM_WAVES = 5\n",
        "\n",
        "wandb.init(\n",
        "    project=\"icl_new\",\n",
        "    name=f\"sine-fit-run_WAVES={NUM_WAVES}_sin_act\",\n",
        "    config={\n",
        "        \"batch_size\": 32,\n",
        "        \"grid_len\":    2 * NUM_WAVES + 1, # must be strictly greater than 2 * n_waves\n",
        "        \"rand_len\":    2 * NUM_WAVES + 1 * 2, # multiply by an additional two with gaussian random t to see if that makes it train better\n",
        "        \"lr\":          1e-4,\n",
        "        \"epochs\":      100_000, #15_000, # Testing with NUM_WAVES=1 showed that the model converged in ~3k steps, 3k * NUM_WAVES = 15k\n",
        "        \"name\": f\"sine-fit-run_WAVES={NUM_WAVES}_sin_act\"\n",
        "        # \"hidden_dim\":  256,\n",
        "    }\n",
        ")\n",
        "\n",
        "cfg = wandb.config\n",
        "\n",
        "device = torch.device('cuda' if torch.cuda.is_available() else 'cpu')\n",
        "\n",
        "# 2) Model + optimizer\n",
        "sin_model = GPT2Regressor(\n",
        "    input_dim=1,\n",
        "    output_dim=1,\n",
        "    # hidden_dim=cfg.hidden_dim,\n",
        "    max_seq_len=2*(cfg.grid_len + cfg.rand_len),\n",
        "    activation_fn=\"x_plus_sin2\",\n",
        ").to(device)\n",
        "opt   = torch.optim.Adam(sin_model.parameters(), lr=cfg.lr)\n",
        "\n",
        "# how often to checkpoint (in epochs)\n",
        "save_every = 20_000\n",
        "ckpt_folder = \"icl_new/checkpoints\"\n",
        "\n",
        "global_step = 0\n",
        "for epoch in tqdm(range(1, cfg.epochs+1), desc=\"Epochs\"):\n",
        "    sin_model.train()\n",
        "\n",
        "    # 1) get a fresh batch\n",
        "    x_flat = generate_sine_batch(cfg.batch_size, cfg.grid_len, cfg.rand_len, num_sines=NUM_WAVES, device=device)\n",
        "    B, total_flat = x_flat.shape\n",
        "    L = cfg.grid_len + cfg.rand_len\n",
        "    seq_len = 2 * L\n",
        "\n",
        "    # 2) un-flatten into (B, seq_len, 1)\n",
        "    x = x_flat.view(B, seq_len, 1)           # this is your [t,f,t,f,…]\n",
        "    targets = x.clone().squeeze(-1)          # we’ll need the true values for loss\n",
        "\n",
        "    # 3) build the same mask logic\n",
        "    idx      = torch.arange(seq_len, device=device)\n",
        "    pair_idx = idx // 2\n",
        "    is_f     = (idx % 2 == 1)\n",
        "    is_pred  = (pair_idx >= cfg.grid_len)\n",
        "    loss_mask= (is_f & is_pred)             # shape (seq_len,)\n",
        "    loss_mask_batch = loss_mask.unsqueeze(0).expand(B, -1)  # (B, seq_len)\n",
        "\n",
        "    # 4) **zero-out the input f’s in the prediction half** so the model never “sees” them\n",
        "    inp = x.clone()\n",
        "    inp[loss_mask_batch.unsqueeze(-1)] = 0.0\n",
        "\n",
        "    # forward pass on masked input\n",
        "    preds = sin_model(inp).squeeze(-1)           # (B, seq_len)\n",
        "\n",
        "    # 6) compute MSE only on the masked-out positions\n",
        "    loss = F.mse_loss(\n",
        "        preds[loss_mask_batch],\n",
        "        targets[loss_mask_batch]\n",
        "    )\n",
        "\n",
        "    # 7) backward / step / log / checkpoint as before\n",
        "    opt.zero_grad()\n",
        "    loss.backward()\n",
        "    opt.step()\n",
        "\n",
        "    global_step += 1\n",
        "    wandb.log({\"loss vs steps\": loss.item()}, step=global_step)\n",
        "\n",
        "    if epoch % save_every == 0:\n",
        "        fname = f\"{cfg.name}{epoch:03d}.pth\"\n",
        "        save_model(sin_model, ckpt_folder, fname)\n",
        "\n",
        "save_model(sin_model, ckpt_folder, f\"{cfg.name}_sin_act_final.pt\")\n",
        "wandb.finish()"
      ],
      "metadata": {
        "colab": {
          "base_uri": "https://localhost:8080/",
          "height": 628,
          "referenced_widgets": [
            "5908e1f7061e4254a80d48ba44b2351e",
            "1148bd031eb446bf827607904bd26319",
            "74b713b2ccdc468cbdd7f520ad7208c4",
            "6b7cce1a31294467a0e893b43193d22a",
            "9867d8e8e90a4b9cb2b4c42cea3b628e",
            "bafd9aec11404a62b4f1df0219938635",
            "7f7599be3bbe430292927c49321e4e30",
            "c138e1bb09c2461ea200df21ad76e29e",
            "67879e878288417ba39c6ec648856754",
            "c219b116bce04907a0874d66b8e57d83",
            "63f65550c5374bc6a9878339e07a0658"
          ]
        },
        "id": "RC062aTgl8ie",
        "outputId": "7052ff9f-0998-4588-851a-99e94b4e0068",
        "cellView": "form"
      },
      "execution_count": null,
      "outputs": [
        {
          "output_type": "stream",
          "name": "stderr",
          "text": [
            "\u001b[34m\u001b[1mwandb\u001b[0m: \u001b[33mWARNING\u001b[0m Calling wandb.login() after wandb.init() has no effect.\n"
          ]
        },
        {
          "output_type": "display_data",
          "data": {
            "text/plain": [
              "<IPython.core.display.HTML object>"
            ],
            "text/html": []
          },
          "metadata": {}
        },
        {
          "output_type": "display_data",
          "data": {
            "text/plain": [
              "<IPython.core.display.HTML object>"
            ],
            "text/html": [
              " View run <strong style=\"color:#cdcd00\">sine-fit-run_WAVES=5_sin_act</strong> at: <a href='https://wandb.ai/drnestedloop-university-of-california-berkeley/icl_new/runs/26ypoyxc' target=\"_blank\">https://wandb.ai/drnestedloop-university-of-california-berkeley/icl_new/runs/26ypoyxc</a><br> View project at: <a href='https://wandb.ai/drnestedloop-university-of-california-berkeley/icl_new' target=\"_blank\">https://wandb.ai/drnestedloop-university-of-california-berkeley/icl_new</a><br>Synced 5 W&B file(s), 0 media file(s), 0 artifact file(s) and 0 other file(s)"
            ]
          },
          "metadata": {}
        },
        {
          "output_type": "display_data",
          "data": {
            "text/plain": [
              "<IPython.core.display.HTML object>"
            ],
            "text/html": [
              "Find logs at: <code>./wandb/run-20250424_163611-26ypoyxc/logs</code>"
            ]
          },
          "metadata": {}
        },
        {
          "output_type": "display_data",
          "data": {
            "text/plain": [
              "<IPython.core.display.HTML object>"
            ],
            "text/html": [
              "Tracking run with wandb version 0.19.9"
            ]
          },
          "metadata": {}
        },
        {
          "output_type": "display_data",
          "data": {
            "text/plain": [
              "<IPython.core.display.HTML object>"
            ],
            "text/html": [
              "Run data is saved locally in <code>/content/wandb/run-20250424_163904-0ftzp17g</code>"
            ]
          },
          "metadata": {}
        },
        {
          "output_type": "display_data",
          "data": {
            "text/plain": [
              "<IPython.core.display.HTML object>"
            ],
            "text/html": [
              "Syncing run <strong><a href='https://wandb.ai/drnestedloop-university-of-california-berkeley/icl_new/runs/0ftzp17g' target=\"_blank\">sine-fit-run_WAVES=5_sin_act</a></strong> to <a href='https://wandb.ai/drnestedloop-university-of-california-berkeley/icl_new' target=\"_blank\">Weights & Biases</a> (<a href='https://wandb.me/developer-guide' target=\"_blank\">docs</a>)<br>"
            ]
          },
          "metadata": {}
        },
        {
          "output_type": "display_data",
          "data": {
            "text/plain": [
              "<IPython.core.display.HTML object>"
            ],
            "text/html": [
              " View project at <a href='https://wandb.ai/drnestedloop-university-of-california-berkeley/icl_new' target=\"_blank\">https://wandb.ai/drnestedloop-university-of-california-berkeley/icl_new</a>"
            ]
          },
          "metadata": {}
        },
        {
          "output_type": "display_data",
          "data": {
            "text/plain": [
              "<IPython.core.display.HTML object>"
            ],
            "text/html": [
              " View run at <a href='https://wandb.ai/drnestedloop-university-of-california-berkeley/icl_new/runs/0ftzp17g' target=\"_blank\">https://wandb.ai/drnestedloop-university-of-california-berkeley/icl_new/runs/0ftzp17g</a>"
            ]
          },
          "metadata": {}
        },
        {
          "output_type": "display_data",
          "data": {
            "text/plain": [
              "Epochs:   0%|          | 0/100000 [00:00<?, ?it/s]"
            ],
            "application/vnd.jupyter.widget-view+json": {
              "version_major": 2,
              "version_minor": 0,
              "model_id": "5908e1f7061e4254a80d48ba44b2351e"
            }
          },
          "metadata": {}
        },
        {
          "output_type": "stream",
          "name": "stdout",
          "text": [
            "[✅] Saved state_dict to /content/drive/My Drive/icl_new/checkpoints/sine-fit-run_WAVES=5_sin_act20000.pth\n",
            "[✅] Saved state_dict to /content/drive/My Drive/icl_new/checkpoints/sine-fit-run_WAVES=5_sin_act40000.pth\n",
            "[✅] Saved state_dict to /content/drive/My Drive/icl_new/checkpoints/sine-fit-run_WAVES=5_sin_act60000.pth\n",
            "[✅] Saved state_dict to /content/drive/My Drive/icl_new/checkpoints/sine-fit-run_WAVES=5_sin_act80000.pth\n",
            "[✅] Saved state_dict to /content/drive/My Drive/icl_new/checkpoints/sine-fit-run_WAVES=5_sin_act100000.pth\n",
            "[✅] Saved state_dict to /content/drive/My Drive/icl_new/checkpoints/sine-fit-run_WAVES=5_sin_act_sin_act_final.pt\n"
          ]
        },
        {
          "output_type": "display_data",
          "data": {
            "text/plain": [
              "<IPython.core.display.HTML object>"
            ],
            "text/html": []
          },
          "metadata": {}
        },
        {
          "output_type": "display_data",
          "data": {
            "text/plain": [
              "<IPython.core.display.HTML object>"
            ],
            "text/html": [
              "<br>    <style><br>        .wandb-row {<br>            display: flex;<br>            flex-direction: row;<br>            flex-wrap: wrap;<br>            justify-content: flex-start;<br>            width: 100%;<br>        }<br>        .wandb-col {<br>            display: flex;<br>            flex-direction: column;<br>            flex-basis: 100%;<br>            flex: 1;<br>            padding: 10px;<br>        }<br>    </style><br><div class=\"wandb-row\"><div class=\"wandb-col\"><h3>Run history:</h3><br/><table class=\"wandb\"><tr><td>loss vs steps</td><td>█▇█▇█▇▇▇▇▆▆▄▆▂▂▁▁▁▁▁▁▁▁▁▁▁▁▁▁▁▁▁▁▁▁▁▂▁▁▁</td></tr></table><br/></div><div class=\"wandb-col\"><h3>Run summary:</h3><br/><table class=\"wandb\"><tr><td>loss vs steps</td><td>0.03074</td></tr></table><br/></div></div>"
            ]
          },
          "metadata": {}
        },
        {
          "output_type": "display_data",
          "data": {
            "text/plain": [
              "<IPython.core.display.HTML object>"
            ],
            "text/html": [
              " View run <strong style=\"color:#cdcd00\">sine-fit-run_WAVES=5_sin_act</strong> at: <a href='https://wandb.ai/drnestedloop-university-of-california-berkeley/icl_new/runs/0ftzp17g' target=\"_blank\">https://wandb.ai/drnestedloop-university-of-california-berkeley/icl_new/runs/0ftzp17g</a><br> View project at: <a href='https://wandb.ai/drnestedloop-university-of-california-berkeley/icl_new' target=\"_blank\">https://wandb.ai/drnestedloop-university-of-california-berkeley/icl_new</a><br>Synced 5 W&B file(s), 0 media file(s), 0 artifact file(s) and 0 other file(s)"
            ]
          },
          "metadata": {}
        },
        {
          "output_type": "display_data",
          "data": {
            "text/plain": [
              "<IPython.core.display.HTML object>"
            ],
            "text/html": [
              "Find logs at: <code>./wandb/run-20250424_163904-0ftzp17g/logs</code>"
            ]
          },
          "metadata": {}
        }
      ]
    },
    {
      "cell_type": "code",
      "source": [
        "#@title Training Sin Activation with Curriculum Learning\n",
        "wandb.login()  # will prompt you to paste your API key in Colab\n",
        "\n",
        "NUM_WAVES = 5\n",
        "\n",
        "wandb.init(\n",
        "    project=\"icl_new\",\n",
        "    name=f\"sine-fit-run_curriculum_WAVES={NUM_WAVES}_sin_act\",\n",
        "    config={\n",
        "        \"batch_size\": 32,\n",
        "        \"grid_len\":    2 * NUM_WAVES + 1, # must be strictly greater than 2 * n_waves\n",
        "        \"rand_len\":    2 * NUM_WAVES + 1 * 2, # multiply by an additional two with gaussian random t to see if that makes it train better\n",
        "        \"lr\":          1e-4,\n",
        "        \"epochs\":      55_000, #15_000, # Testing with NUM_WAVES=1 showed that the model converged in ~3k steps, 3k * NUM_WAVES = 15k\n",
        "        \"max_waves\": NUM_WAVES,\n",
        "        \"save_every\": 10_000,\n",
        "        # \"schedule_length\": 11_000,\n",
        "        \"name\": f\"sine-fit-run_curriculum_WAVES={NUM_WAVES}_sin_act\"\n",
        "        # \"hidden_dim\":  256,\n",
        "    }\n",
        ")\n",
        "\n",
        "cfg = wandb.config\n",
        "\n",
        "device = torch.device('cuda' if torch.cuda.is_available() else 'cpu')\n",
        "\n",
        "# 2) Model + optimizer\n",
        "cur_sin_model = GPT2Regressor(\n",
        "    input_dim=1,\n",
        "    output_dim=1,\n",
        "    # hidden_dim=cfg.hidden_dim,\n",
        "    max_seq_len=2*(cfg.grid_len + cfg.rand_len),\n",
        "    activation_fn=\"x_plus_sin2\",\n",
        ").to(device)\n",
        "opt   = torch.optim.Adam(cur_sin_model.parameters(), lr=cfg.lr)\n",
        "\n",
        "schedule_length = cfg.epochs // cfg.max_waves\n",
        "\n",
        "# how often to checkpoint (in epochs)\n",
        "save_every = 20_000\n",
        "ckpt_folder = \"icl_new/checkpoints/sin_curriculum\"\n",
        "# ── 3) Training with curriculum ───────────────────────────────────────────\n",
        "global_step = 0\n",
        "for epoch in tqdm(range(1, cfg.epochs + 1), desc=\"Epochs\"):\n",
        "\n",
        "    # determine how many waves to use this epoch\n",
        "    # starts at 1, every `schedule_length` epochs increments by 1\n",
        "    cur_waves = min(\n",
        "        cfg.max_waves,\n",
        "        1 + (epoch - 1) // schedule_length\n",
        "    )\n",
        "\n",
        "    # recompute your grid & rand lengths on the fly\n",
        "    grid_len = 2*cur_waves + 1\n",
        "    rand_len = grid_len\n",
        "    L        = grid_len + rand_len\n",
        "    seq_len  = 2 * L\n",
        "\n",
        "    # 1) generate batch of interleaved [t,f]\n",
        "    x_flat = generate_sine_batch(\n",
        "        cfg.batch_size,\n",
        "        grid_len,\n",
        "        rand_len,\n",
        "        num_sines=cur_waves,\n",
        "        device=device\n",
        "    )  # shape (B, 2*L)\n",
        "\n",
        "    B, _    = x_flat.shape\n",
        "    x       = x_flat.view(B, seq_len, 1)        # (B, seq_len, 1)\n",
        "    targets = x.clone().squeeze(-1)             # (B, seq_len)\n",
        "\n",
        "    # 2) build mask for f-values in the last rand_len pairs\n",
        "    idx       = torch.arange(seq_len, device=device)\n",
        "    pair_idx  = idx // 2\n",
        "    is_f      = (idx % 2 == 1)\n",
        "    is_pred   = (pair_idx >= grid_len)\n",
        "    loss_mask = (is_f & is_pred)                # (seq_len,)\n",
        "    mask_b    = loss_mask.unsqueeze(0).expand(B, -1)  # (B, seq_len)\n",
        "\n",
        "    # 3) zero out the INPUT f’s in the prediction half so model can’t cheat\n",
        "    inp = x.clone()\n",
        "    inp[mask_b.unsqueeze(-1)] = 0.0\n",
        "\n",
        "    # 4) forward + loss\n",
        "    preds = cur_sin_model(inp).squeeze(-1)               # (B, seq_len)\n",
        "    loss  = F.mse_loss(\n",
        "        preds[mask_b],\n",
        "        targets[mask_b]\n",
        "    )\n",
        "\n",
        "    # 5) backward / step\n",
        "    opt.zero_grad()\n",
        "    loss.backward()\n",
        "    opt.step()\n",
        "\n",
        "    # 6) logging & checkpointing\n",
        "    global_step += 1\n",
        "    wandb.log({\n",
        "        \"loss vs steps\":   loss.item(),\n",
        "        \"train/num_waves\": cur_waves\n",
        "    }, step=global_step)\n",
        "\n",
        "    if epoch % cfg.save_every == 0:\n",
        "        fname = f\"{cfg.name}{epoch:03d}.pth\"\n",
        "        save_model(cur_sin_model, \"icl_new/checkpoints\", fname)\n",
        "\n",
        "# final save\n",
        "save_model(cur_sin_model, \"icl_new/checkpoints/sin_curriculum\", f\"{cfg.name}_final.pth\")\n",
        "wandb.finish()"
      ],
      "metadata": {
        "colab": {
          "base_uri": "https://localhost:8080/",
          "height": 671,
          "referenced_widgets": [
            "c04868cdb52b41acbadd14d597efdabf",
            "7bf6cb5a11e341f1a670917260a19487",
            "f0f346f28cc3485ca957cfd3080482d0",
            "7bb875779b7d421d80b1b25b276d0b26",
            "e1d6c55abe744a96a5abcdb6ae7aee19",
            "a6a3de66afb5463d97cfc48bfe624192",
            "627e41d66bb8456c861478654a85c73d",
            "d6fd5157ffa04201a747044160e69853",
            "fd0e73ff225248c3b6eba155fed9e508",
            "6c9f79c511b74c3f80b3e332f1f3847f",
            "186e89abb0b9493fa3d7171ce1397185"
          ]
        },
        "cellView": "form",
        "id": "iIcHfzy0HMIW",
        "outputId": "f79ca378-87de-4c40-c805-1652a8a6b8b6"
      },
      "execution_count": null,
      "outputs": [
        {
          "output_type": "stream",
          "name": "stderr",
          "text": [
            "\u001b[34m\u001b[1mwandb\u001b[0m: \u001b[33mWARNING\u001b[0m Calling wandb.login() after wandb.init() has no effect.\n"
          ]
        },
        {
          "output_type": "display_data",
          "data": {
            "text/plain": [
              "<IPython.core.display.HTML object>"
            ],
            "text/html": []
          },
          "metadata": {}
        },
        {
          "output_type": "display_data",
          "data": {
            "text/plain": [
              "<IPython.core.display.HTML object>"
            ],
            "text/html": [
              " View run <strong style=\"color:#cdcd00\">sine-fit-run_curriculum_WAVES=5_sin_act</strong> at: <a href='https://wandb.ai/drnestedloop-university-of-california-berkeley/icl_new/runs/2r71q3xs' target=\"_blank\">https://wandb.ai/drnestedloop-university-of-california-berkeley/icl_new/runs/2r71q3xs</a><br> View project at: <a href='https://wandb.ai/drnestedloop-university-of-california-berkeley/icl_new' target=\"_blank\">https://wandb.ai/drnestedloop-university-of-california-berkeley/icl_new</a><br>Synced 5 W&B file(s), 0 media file(s), 0 artifact file(s) and 0 other file(s)"
            ]
          },
          "metadata": {}
        },
        {
          "output_type": "display_data",
          "data": {
            "text/plain": [
              "<IPython.core.display.HTML object>"
            ],
            "text/html": [
              "Find logs at: <code>./wandb/run-20250424_233431-2r71q3xs/logs</code>"
            ]
          },
          "metadata": {}
        },
        {
          "output_type": "display_data",
          "data": {
            "text/plain": [
              "<IPython.core.display.HTML object>"
            ],
            "text/html": [
              "Tracking run with wandb version 0.19.9"
            ]
          },
          "metadata": {}
        },
        {
          "output_type": "display_data",
          "data": {
            "text/plain": [
              "<IPython.core.display.HTML object>"
            ],
            "text/html": [
              "Run data is saved locally in <code>/content/wandb/run-20250424_233559-pj9zmnx1</code>"
            ]
          },
          "metadata": {}
        },
        {
          "output_type": "display_data",
          "data": {
            "text/plain": [
              "<IPython.core.display.HTML object>"
            ],
            "text/html": [
              "Syncing run <strong><a href='https://wandb.ai/drnestedloop-university-of-california-berkeley/icl_new/runs/pj9zmnx1' target=\"_blank\">sine-fit-run_curriculum_WAVES=5_sin_act</a></strong> to <a href='https://wandb.ai/drnestedloop-university-of-california-berkeley/icl_new' target=\"_blank\">Weights & Biases</a> (<a href='https://wandb.me/developer-guide' target=\"_blank\">docs</a>)<br>"
            ]
          },
          "metadata": {}
        },
        {
          "output_type": "display_data",
          "data": {
            "text/plain": [
              "<IPython.core.display.HTML object>"
            ],
            "text/html": [
              " View project at <a href='https://wandb.ai/drnestedloop-university-of-california-berkeley/icl_new' target=\"_blank\">https://wandb.ai/drnestedloop-university-of-california-berkeley/icl_new</a>"
            ]
          },
          "metadata": {}
        },
        {
          "output_type": "display_data",
          "data": {
            "text/plain": [
              "<IPython.core.display.HTML object>"
            ],
            "text/html": [
              " View run at <a href='https://wandb.ai/drnestedloop-university-of-california-berkeley/icl_new/runs/pj9zmnx1' target=\"_blank\">https://wandb.ai/drnestedloop-university-of-california-berkeley/icl_new/runs/pj9zmnx1</a>"
            ]
          },
          "metadata": {}
        },
        {
          "output_type": "display_data",
          "data": {
            "text/plain": [
              "Epochs:   0%|          | 0/55000 [00:00<?, ?it/s]"
            ],
            "application/vnd.jupyter.widget-view+json": {
              "version_major": 2,
              "version_minor": 0,
              "model_id": "c04868cdb52b41acbadd14d597efdabf"
            }
          },
          "metadata": {}
        },
        {
          "output_type": "stream",
          "name": "stdout",
          "text": [
            "[✅] Saved state_dict to /content/drive/My Drive/icl_new/checkpoints/sine-fit-run_curriculum_WAVES=5_sin_act10000.pth\n",
            "[✅] Saved state_dict to /content/drive/My Drive/icl_new/checkpoints/sine-fit-run_curriculum_WAVES=5_sin_act20000.pth\n",
            "[✅] Saved state_dict to /content/drive/My Drive/icl_new/checkpoints/sine-fit-run_curriculum_WAVES=5_sin_act30000.pth\n",
            "[✅] Saved state_dict to /content/drive/My Drive/icl_new/checkpoints/sine-fit-run_curriculum_WAVES=5_sin_act40000.pth\n",
            "[✅] Saved state_dict to /content/drive/My Drive/icl_new/checkpoints/sine-fit-run_curriculum_WAVES=5_sin_act50000.pth\n",
            "[✅] Saved state_dict to /content/drive/My Drive/icl_new/checkpoints/sin_curriculum/sine-fit-run_curriculum_WAVES=5_sin_act_final.pth\n"
          ]
        },
        {
          "output_type": "display_data",
          "data": {
            "text/plain": [
              "<IPython.core.display.HTML object>"
            ],
            "text/html": []
          },
          "metadata": {}
        },
        {
          "output_type": "display_data",
          "data": {
            "text/plain": [
              "<IPython.core.display.HTML object>"
            ],
            "text/html": [
              "<br>    <style><br>        .wandb-row {<br>            display: flex;<br>            flex-direction: row;<br>            flex-wrap: wrap;<br>            justify-content: flex-start;<br>            width: 100%;<br>        }<br>        .wandb-col {<br>            display: flex;<br>            flex-direction: column;<br>            flex-basis: 100%;<br>            flex: 1;<br>            padding: 10px;<br>        }<br>    </style><br><div class=\"wandb-row\"><div class=\"wandb-col\"><h3>Run history:</h3><br/><table class=\"wandb\"><tr><td>loss vs steps</td><td>▄▅▄▃▃▄▁▂▂▂▂▂▂▂▁▃▃▃▂▃█▅▃▂▂▂▂▂▂▂▂▇▂▂▂▂▂▂▁▂</td></tr><tr><td>train/num_waves</td><td>▁▁▁▁▁▁▁▁▁▁▃▃▃▃▃▃▃▃▃▅▅▅▅▅▅▅▆▆▆▆▆▆▆▆██████</td></tr></table><br/></div><div class=\"wandb-col\"><h3>Run summary:</h3><br/><table class=\"wandb\"><tr><td>loss vs steps</td><td>0.05834</td></tr><tr><td>train/num_waves</td><td>5</td></tr></table><br/></div></div>"
            ]
          },
          "metadata": {}
        },
        {
          "output_type": "display_data",
          "data": {
            "text/plain": [
              "<IPython.core.display.HTML object>"
            ],
            "text/html": [
              " View run <strong style=\"color:#cdcd00\">sine-fit-run_curriculum_WAVES=5_sin_act</strong> at: <a href='https://wandb.ai/drnestedloop-university-of-california-berkeley/icl_new/runs/pj9zmnx1' target=\"_blank\">https://wandb.ai/drnestedloop-university-of-california-berkeley/icl_new/runs/pj9zmnx1</a><br> View project at: <a href='https://wandb.ai/drnestedloop-university-of-california-berkeley/icl_new' target=\"_blank\">https://wandb.ai/drnestedloop-university-of-california-berkeley/icl_new</a><br>Synced 5 W&B file(s), 0 media file(s), 0 artifact file(s) and 0 other file(s)"
            ]
          },
          "metadata": {}
        },
        {
          "output_type": "display_data",
          "data": {
            "text/plain": [
              "<IPython.core.display.HTML object>"
            ],
            "text/html": [
              "Find logs at: <code>./wandb/run-20250424_233559-pj9zmnx1/logs</code>"
            ]
          },
          "metadata": {}
        }
      ]
    },
    {
      "cell_type": "code",
      "source": [
        "#@title Load Models from Drive\n",
        "NUM_WAVES = 5\n",
        "\n",
        "cfg={\n",
        "    \"batch_size\": 32,\n",
        "    \"grid_len\":    2 * NUM_WAVES + 1, # must be strictly greater than 2 * n_waves\n",
        "    \"rand_len\":    2 * NUM_WAVES + 1,\n",
        "    \"lr\":          1e-4,\n",
        "    \"epochs\":      15_000, # Testing with NUM_WAVES=1 showed that the model converged in ~3k steps, 3k * NUM_WAVES = 15k\n",
        "    \"name\": f\"sine-fit-run_WAVES={NUM_WAVES}_norm\"\n",
        "    # \"hidden_dim\":  256,\n",
        "}\n",
        "\n",
        "cur_model = GPT2Regressor(\n",
        "    input_dim=1,\n",
        "    output_dim=1,\n",
        "    # hidden_dim=cfg.hidden_dim,\n",
        "    max_seq_len=2*(cfg[\"grid_len\"] + cfg[\"rand_len\"]),\n",
        ")\n",
        "\n",
        "device = torch.device('cuda' if torch.cuda.is_available() else 'cpu')\n",
        "weights_path = \"/content/drive/MyDrive/icl_new/checkpoints/sine-fit-curriculum_MAX_WAVES=5__final.pth\"\n",
        "cur_model.load_state_dict(torch.load(weights_path, map_location=device))\n",
        "cur_model.to(device)\n",
        "\n",
        "cfg={\n",
        "  \"batch_size\": 32,\n",
        "  \"grid_len\":    2 * NUM_WAVES + 1, # must be strictly greater than 2 * n_waves\n",
        "  \"rand_len\":    2 * NUM_WAVES + 1 * 2, # multiply by an additional two with gaussian random t to see if that makes it train better\n",
        "  \"lr\":          1e-4,\n",
        "  \"epochs\":      100_000, #15_000, # Testing with NUM_WAVES=1 showed that the model converged in ~3k steps, 3k * NUM_WAVES = 15k\n",
        "  \"name\": f\"sine-fit-run_WAVES={NUM_WAVES}_sin_act\"\n",
        "  # \"hidden_dim\":  256,\n",
        "  }\n",
        "sin_model = GPT2Regressor(\n",
        "    input_dim=1,\n",
        "    output_dim=1,\n",
        "    # hidden_dim=cfg.hidden_dim,\n",
        "    max_seq_len=2*(cfg[\"grid_len\"] + cfg[\"rand_len\"]),\n",
        "    activation_fn=\"x_plus_sin2\",\n",
        ")\n",
        "weights_path = \"/content/drive/MyDrive/icl_new/checkpoints/sine-fit-run_WAVES=5_sin_act_sin_act_final.pt\"\n",
        "sin_model.load_state_dict(torch.load(weights_path, map_location=device))\n",
        "sin_model.to(device)\n",
        "\n",
        "cur_sin_model = GPT2Regressor(\n",
        "    input_dim=1,\n",
        "    output_dim=1,\n",
        "    # hidden_dim=cfg.hidden_dim,\n",
        "    max_seq_len=2*(cfg[\"grid_len\"] + cfg[\"rand_len\"]),\n",
        "    activation_fn=\"x_plus_sin2\",\n",
        ")\n",
        "weights_path = \"/content/drive/MyDrive/icl_new/checkpoints/sin_curriculum/sine-fit-run_curriculum_WAVES=5_sin_act_final.pth\"\n",
        "cur_sin_model.load_state_dict(torch.load(weights_path, map_location=device))\n",
        "cur_sin_model.to(device)"
      ],
      "metadata": {
        "colab": {
          "base_uri": "https://localhost:8080/"
        },
        "cellView": "form",
        "id": "dqButYkr5REf",
        "outputId": "42adb785-5598-4956-9a00-9daa6135f69e"
      },
      "execution_count": 34,
      "outputs": [
        {
          "output_type": "execute_result",
          "data": {
            "text/plain": [
              "GPT2Regressor(\n",
              "  (input_proj): Linear(in_features=1, out_features=256, bias=True)\n",
              "  (transformer): GPT2Model(\n",
              "    (wte): Embedding(50257, 256)\n",
              "    (wpe): Embedding(46, 256)\n",
              "    (drop): Dropout(p=0.0, inplace=False)\n",
              "    (h): ModuleList(\n",
              "      (0-11): 12 x GPT2Block(\n",
              "        (ln_1): LayerNorm((256,), eps=1e-05, elementwise_affine=True)\n",
              "        (attn): GPT2Attention(\n",
              "          (c_attn): Conv1D(nf=768, nx=256)\n",
              "          (c_proj): Conv1D(nf=256, nx=256)\n",
              "          (attn_dropout): Dropout(p=0.0, inplace=False)\n",
              "          (resid_dropout): Dropout(p=0.0, inplace=False)\n",
              "        )\n",
              "        (ln_2): LayerNorm((256,), eps=1e-05, elementwise_affine=True)\n",
              "        (mlp): GPT2MLP(\n",
              "          (c_fc): Conv1D(nf=1024, nx=256)\n",
              "          (c_proj): Conv1D(nf=256, nx=1024)\n",
              "          (act): XPlusSin2()\n",
              "          (dropout): Dropout(p=0.0, inplace=False)\n",
              "        )\n",
              "      )\n",
              "    )\n",
              "    (ln_f): LayerNorm((256,), eps=1e-05, elementwise_affine=True)\n",
              "  )\n",
              "  (dropout): Dropout(p=0.0, inplace=False)\n",
              "  (output_proj): Linear(in_features=256, out_features=1, bias=True)\n",
              ")"
            ]
          },
          "metadata": {},
          "execution_count": 34
        }
      ]
    },
    {
      "cell_type": "code",
      "source": [
        "cur_model.eval()\n",
        "device = torch.device('cuda' if torch.cuda.is_available() else 'cpu')\n",
        "gen_comparison_graphs(cur_model, num_waves=5, device=device, query_start=-4, query_end=5)"
      ],
      "metadata": {
        "colab": {
          "base_uri": "https://localhost:8080/",
          "height": 472
        },
        "id": "GaWKH_ybMmrn",
        "outputId": "e10204fc-29b3-4321-b591-b3b1237507b7"
      },
      "execution_count": null,
      "outputs": [
        {
          "output_type": "display_data",
          "data": {
            "text/plain": [
              "<Figure size 640x480 with 1 Axes>"
            ],
            "image/png": "[encoded data removed]"
          },
          "metadata": {}
        }
      ]
    },
    {
      "cell_type": "code",
      "source": [
        "sin_model.eval()\n",
        "device = torch.device('cuda' if torch.cuda.is_available() else 'cpu')\n",
        "gen_comparison_graphs(sin_model, num_waves=4, device=device, query_start=-4, query_end=5)"
      ],
      "metadata": {
        "colab": {
          "base_uri": "https://localhost:8080/",
          "height": 472
        },
        "id": "wIe06M6I03LG",
        "outputId": "e142ef7f-3e37-415c-944a-9bc68abf008b"
      },
      "execution_count": null,
      "outputs": [
        {
          "output_type": "display_data",
          "data": {
            "text/plain": [
              "<Figure size 640x480 with 1 Axes>"
            ],
            "image/png": "[encoded data removed]"
          },
          "metadata": {}
        }
      ]
    },
    {
      "cell_type": "code",
      "source": [
        "cur_sin_model.eval()\n",
        "device = torch.device('cuda' if torch.cuda.is_available() else 'cpu')\n",
        "gen_comparison_graphs(cur_sin_model, num_waves=5, device=device, query_start=-4, query_end=5)"
      ],
      "metadata": {
        "colab": {
          "base_uri": "https://localhost:8080/",
          "height": 472
        },
        "id": "htJ4Vd97PlkD",
        "outputId": "d6792bb0-940e-4b23-efb8-2852982e7e6a"
      },
      "execution_count": null,
      "outputs": [
        {
          "output_type": "display_data",
          "data": {
            "text/plain": [
              "<Figure size 640x480 with 1 Axes>"
            ],
            "image/png": "[encoded data removed]"
          },
          "metadata": {}
        }
      ]
    },
    {
      "cell_type": "code",
      "source": [
        "#@title Tools for Final Evaluations\n",
        "import numpy as np\n",
        "import matplotlib.pyplot as plt\n",
        "import torch\n",
        "\n",
        "def evaluate_n_examples(model, num_waves, num_examples=10, plot_graphs=True, device=None):\n",
        "    \"\"\"\n",
        "    Generates comparison plots and computes MSE over three sub-intervals plus [0,3].\n",
        "\n",
        "    Args:\n",
        "        model:         GPT2Regressor in eval() mode\n",
        "        num_waves:     number of sine components\n",
        "        num_examples:  how many random functions to test\n",
        "        plot_graphs:   whether to show each plot\n",
        "        device:        torch device (defaults to model.device)\n",
        "    \"\"\"\n",
        "    if device is None:\n",
        "        device = next(model.parameters()).device\n",
        "\n",
        "    all_mse = []\n",
        "    for example_num in range(num_examples):\n",
        "        # 1) Sample sine parameters\n",
        "        freqs  = 2 * np.pi * np.arange(1, num_waves + 1)\n",
        "        phases = np.random.choice([0, np.pi/2], size=num_waves)\n",
        "        amps   = np.random.rand(num_waves)\n",
        "\n",
        "        # 2) True function\n",
        "        def f_true(t):\n",
        "            out = np.zeros_like(t)\n",
        "            for a, f, p in zip(amps, freqs, phases):\n",
        "                out += a * np.sin(f * t + p)\n",
        "            return out\n",
        "\n",
        "        # 3) Context in [0,1]\n",
        "        grid_len    = 2 * num_waves + 1\n",
        "        context_ts  = np.linspace(0, 1, grid_len)\n",
        "        np.random.shuffle(context_ts)\n",
        "        context_fs  = f_true(context_ts)\n",
        "        context     = list(zip(context_ts.tolist(), context_fs.tolist()))\n",
        "\n",
        "        # 4) Dense queries\n",
        "        query_ts = np.linspace(0, 3, 200)\n",
        "        preds    = np.array([\n",
        "            run_inference(model, context, float(t), device=device)\n",
        "            for t in query_ts\n",
        "        ])\n",
        "\n",
        "        # 5) Plot if desired\n",
        "        if plot_graphs:\n",
        "            plt.figure()\n",
        "            plt.plot(query_ts, f_true(query_ts), label='True')\n",
        "            plt.plot(query_ts, preds,        label='Predicted')\n",
        "            plt.scatter(context_ts, context_fs, label='Context')\n",
        "            plt.title(f\"True vs. Predicted (num_waves={num_waves}, example #{example_num})\")\n",
        "            plt.xlabel(\"t\"); plt.ylabel(\"f(t)\")\n",
        "            plt.legend(); plt.show()\n",
        "\n",
        "        # 6) Compute MSEs\n",
        "        mse_intervals = []\n",
        "        edges = np.linspace(0, 3, 4)  # 0, 1, 2, 3\n",
        "        true_vals = f_true(query_ts)\n",
        "        for start, end in zip(edges[:-1], edges[1:]):\n",
        "            mask = (query_ts >= start) & (query_ts < end)\n",
        "            mse_intervals.append(((preds[mask] - true_vals[mask])**2).mean())\n",
        "        # full [0,3]\n",
        "        mse_intervals.append(((preds - true_vals)**2).mean())\n",
        "\n",
        "        all_mse.append(mse_intervals)\n",
        "\n",
        "    all_mse = np.array(all_mse)\n",
        "    print(\"Per-interval MSEs:\\n\", all_mse)\n",
        "    print(\"Mean across all examples:\", np.mean(all_mse, axis=0))\n",
        "    return all_mse\n",
        "\n",
        "# run with synchronous CUDA errors on\n",
        "%env CUDA_LAUNCH_BLOCKING=1\n",
        "device = torch.device('cuda' if torch.cuda.is_available() else 'cpu')\n",
        "#Change model to sin_model or sin_model to model depending on what you are running.\n",
        "res = evaluate_n_examples(sin_model, num_waves=5, num_examples=150, device=device)"
      ],
      "metadata": {
        "id": "8-n0x9NbSelL"
      },
      "execution_count": null,
      "outputs": []
    },
    {
      "cell_type": "code",
      "source": [
        "#@title Tools for Generating Histograms\n",
        "import matplotlib.pyplot as plt\n",
        "# Define missing variables\n",
        "global_min = np.min(res)\n",
        "x_max = np.max(res)\n",
        "x_step = 0.02\n",
        "x_right = np.ceil(x_max / x_step) * x_step\n",
        "titles = [\"Histogram of MSE from 0-1\", \"Histogram of MSE from 1-2\", \"Histogram of MSE from 2-3\", \"Histogram of MSE over entire range\"]\n",
        "\n",
        "# Recalculate bins with new x_right\n",
        "bins = np.arange(np.floor(global_min), x_right + x_step, x_step)\n",
        "\n",
        "# Compute global max frequency for consistent y-axis limits\n",
        "max_freq = 0\n",
        "for i in range(4):\n",
        "  counts, _ = np.histogram(res[:, i], bins=bins)\n",
        "  max_freq = max(max_freq, counts.max())\n",
        "\n",
        "# Plot histograms with all axes aligned\n",
        "for i in range(4):\n",
        "  plt.figure()\n",
        "  plt.hist(res[:, i], bins=bins, edgecolor='white')\n",
        "  plt.title(titles[i])\n",
        "  plt.xlabel(\"MSE\")\n",
        "  plt.ylabel(\"Frequency\")\n",
        "  plt.ylim(0, max_freq)\n",
        "  plt.xlim(bins[0], x_right)\n",
        "  plt.xticks(np.arange(bins[0], x_right + 0.001, x_step))\n",
        "  plt.tight_layout()\n",
        "  plt.show()"
      ],
      "metadata": {
        "id": "1i57QXiTTJ-Z"
      },
      "execution_count": null,
      "outputs": []
    }
  ]
}