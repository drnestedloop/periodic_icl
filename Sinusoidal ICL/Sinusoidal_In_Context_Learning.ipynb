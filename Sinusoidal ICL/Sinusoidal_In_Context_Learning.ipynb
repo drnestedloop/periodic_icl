{
  "cells": [
    {
      "cell_type": "code",
      "execution_count": null,
      "metadata": {
        "id": "KrpHrJh786u_"
      },
      "outputs": [],
      "source": [
        "#@title Imports\n",
        "%load_ext autoreload\n",
        "%aimport core_utils\n",
        "%aimport custom_model\n",
        "%aimport training_utils\n",
        "%aimport eval_utils\n",
        "%autoreload 1\n",
        "\n",
        "import core_utils\n",
        "import custom_model\n",
        "import training_utils\n",
        "import eval_utils\n",
        "\n",
        "import torch"
      ]
    },
    {
      "cell_type": "code",
      "execution_count": null,
      "metadata": {
        "id": "9MdYKvujG3lx"
      },
      "outputs": [],
      "source": [
        "#@title Imports\n",
        "core_utils.colab_setup()"
      ]
    },
    {
      "cell_type": "code",
      "execution_count": null,
      "metadata": {
        "id": "iWVll4Rlh3zO"
      },
      "outputs": [],
      "source": [
        "#@title Training\n",
        "\n",
        "# Sinusoidal activation trained with chapter curriculum\n",
        "model = training_utils.train(\n",
        "    cfg={\n",
        "        \"activation_fn\": \"x_plus_sin2\",\n",
        "        \"curriculum\": \"chapter\",\n",
        "        \"epochs\": 55_000,\n",
        "        \"save_every\": 100,\n",
        "        \"max_waves\": 5,\n",
        "        \"seed\": 42,\n",
        "    },\n",
        "    use_wandb=True\n",
        ")\n",
        "\n",
        "# Alternate training schemes:\n",
        "\n",
        "# # Sinusoidal activation trained with interspersed curriculum\n",
        "# model = training_utils.train(\n",
        "#     cfg={\n",
        "#         \"activation_fn\": \"x_plus_sin2\",\n",
        "#         \"curriculum\": \"interspersed\",\n",
        "#         \"epochs\": 55_000,\n",
        "#         \"save_every\": 5_000,\n",
        "#         \"max_waves\": 5,\n",
        "#         \"seed\": 42,\n",
        "#         \"curriculum_config\": {\"interspersed_every\": 10}\n",
        "#     },\n",
        "#     use_wandb=True\n",
        "# )\n",
        "\n",
        "# # Sinusoidal activation trained with standard incremental curriculum\n",
        "# model = training_utils.train(\n",
        "#     cfg={\n",
        "#         \"activation_fn\": \"x_plus_sin2\",\n",
        "#         \"curriculum\": \"standard\",\n",
        "#         \"epochs\": 55_000,\n",
        "#         \"save_every\": 5_000,\n",
        "#         \"max_waves\": 5,\n",
        "#         \"seed\": 42,\n",
        "#     },\n",
        "#     use_wandb=True\n",
        "# )\n",
        "\n",
        "# # GeLU activation trained with chapter curriculum\n",
        "# model = training_utils.train(\n",
        "#     cfg={\n",
        "#         \"curriculum\": \"chapter\",\n",
        "#         \"epochs\": 55_000,\n",
        "#         \"save_every\": 5_000,\n",
        "#         \"max_waves\": 5,\n",
        "#         \"seed\": 42,\n",
        "#     },\n",
        "#     use_wandb=True\n",
        "# )"
      ]
    },
    {
      "cell_type": "code",
      "execution_count": null,
      "metadata": {
        "id": "rMG7QSqs48fm"
      },
      "outputs": [],
      "source": [
        "NUM_WAVES = 5\n",
        "\n",
        "cfg={\n",
        "    \"batch_size\": 32,\n",
        "    \"grid_len\":    2 * NUM_WAVES + 1, # must be strictly greater than 2 * n_waves\n",
        "    \"rand_len\":    2 * NUM_WAVES + 1,\n",
        "    \"lr\":          1e-4,\n",
        "    \"epochs\":      55_000,\n",
        "    \"name\": f\"sine-fit-run_WAVES={NUM_WAVES}_norm\"\n",
        "}\n",
        "\n",
        "device = torch.device('cuda' if torch.cuda.is_available() else 'cpu')\n",
        "\n",
        "\n",
        "model = custom_model.GPT2Regressor(\n",
        "    input_dim=1,\n",
        "    output_dim=1,\n",
        "    max_seq_len=2*(cfg[\"grid_len\"] + cfg[\"rand_len\"]),\n",
        "    activation_fn=\"x_plus_sin2\", # Comment line to switch to GeLU\n",
        ")\n",
        "weights_path = \"/content/drive/MyDrive/sinusoidal_icl/checkpoints/sinusoidal_fit_max_waves_5_x_plus_sin2_activation_chapter_curriculum/sine-fit-run_chapter_curriculum_WAVES=5_sin_act_final.pth\"\n",
        "model.load_state_dict(torch.load(weights_path, map_location=device))\n",
        "model.to(device)"
      ]
    },
    {
      "cell_type": "code",
      "execution_count": null,
      "metadata": {
        "id": "oFcR3sOjIZPj"
      },
      "outputs": [],
      "source": [
        "eval_utils.evaluate_model(model, 100, 5)"
      ]
    },
    {
      "cell_type": "markdown",
      "metadata": {
        "id": "SF6w4bDP88UC"
      },
      "source": []
    }
  ],
  "metadata": {
    "accelerator": "GPU",
    "colab": {
      "gpuType": "T4",
      "provenance": []
    },
    "kernelspec": {
      "display_name": "Python 3",
      "name": "python3"
    },
    "language_info": {
      "name": "python"
    }
  },
  "nbformat": 4,
  "nbformat_minor": 0
}
